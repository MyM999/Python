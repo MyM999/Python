{
 "cells": [
  {
   "cell_type": "code",
   "execution_count": 2,
   "id": "25c259e4",
   "metadata": {},
   "outputs": [],
   "source": [
    "# 명령모드: m -  마크다운문서 셀, y-코드작성 셀"
   ]
  },
  {
   "cell_type": "markdown",
   "id": "d04046aa",
   "metadata": {},
   "source": [
    "# 마크다운\n",
    "- ***셀 변환***\n",
    "    1. m: code cell에서 markdwon cell로 변환\n",
    "    1. y: markdown cell에서 code cell로 변환"
   ]
  },
  {
   "cell_type": "code",
   "execution_count": 6,
   "id": "714e5394",
   "metadata": {},
   "outputs": [
    {
     "data": {
      "text/plain": [
       "2"
      ]
     },
     "execution_count": 6,
     "metadata": {},
     "output_type": "execute_result"
    }
   ],
   "source": [
    "1+1"
   ]
  },
  {
   "cell_type": "markdown",
   "id": "c6dfb6f1",
   "metadata": {},
   "source": [
    "# 리스트\n",
    "- 순서가 있는 자료구조\n",
    "    - 원소들을 index로 관리한다.\n",
    "- 생성\n",
    "    - 1 = [값, 값, 값, ..]"
   ]
  },
  {
   "cell_type": "code",
   "execution_count": 8,
   "id": "50fe8dd9",
   "metadata": {},
   "outputs": [],
   "source": [
    "l1 = [1,2,10,30]\n",
    "l2 = [10.7, 5, 'abc', True, None, 30]\n"
   ]
  },
  {
   "cell_type": "code",
   "execution_count": 10,
   "id": "f4a8ff5b",
   "metadata": {},
   "outputs": [
    {
     "name": "stdout",
     "output_type": "stream",
     "text": [
      "1 30\n",
      "abc None\n"
     ]
    }
   ],
   "source": [
    "# 조회 : indexing/ slicing\n",
    "# indexing\n",
    "print(l1[0], l1[3])\n",
    "print(l2[2], l2[4])"
   ]
  },
  {
   "cell_type": "code",
   "execution_count": 11,
   "id": "195d0a94",
   "metadata": {},
   "outputs": [
    {
     "ename": "IndexError",
     "evalue": "list index out of range",
     "output_type": "error",
     "traceback": [
      "\u001b[1;31m---------------------------------------------------------------------------\u001b[0m",
      "\u001b[1;31mIndexError\u001b[0m                                Traceback (most recent call last)",
      "\u001b[1;32m~\\AppData\\Local\\Temp/ipykernel_6296/2021025282.py\u001b[0m in \u001b[0;36m<module>\u001b[1;34m\u001b[0m\n\u001b[0;32m      1\u001b[0m \u001b[1;31m# 없는 index조회 => IndexError 에러발생\u001b[0m\u001b[1;33m\u001b[0m\u001b[1;33m\u001b[0m\u001b[0m\n\u001b[1;32m----> 2\u001b[1;33m \u001b[0ml1\u001b[0m\u001b[1;33m[\u001b[0m\u001b[1;36m10\u001b[0m\u001b[1;33m]\u001b[0m\u001b[1;33m\u001b[0m\u001b[1;33m\u001b[0m\u001b[0m\n\u001b[0m",
      "\u001b[1;31mIndexError\u001b[0m: list index out of range"
     ]
    }
   ],
   "source": [
    "# 없는 index조회 => IndexError 에러발생\n",
    "l1[10]"
   ]
  },
  {
   "cell_type": "code",
   "execution_count": 14,
   "id": "54e3eb51",
   "metadata": {},
   "outputs": [
    {
     "name": "stdout",
     "output_type": "stream",
     "text": [
      "l1 원소개수: 4\n",
      "l2 원소개수: 6\n"
     ]
    }
   ],
   "source": [
    "# index내의 원소 개수 조회\n",
    "print('l1 원소개수:',len(l1))\n",
    "print('l2 원소개수:',len(l2))"
   ]
  },
  {
   "cell_type": "code",
   "execution_count": 15,
   "id": "58760944",
   "metadata": {},
   "outputs": [
    {
     "data": {
      "text/plain": [
       "[10.7, 5, 'abc', True, None, 30]"
      ]
     },
     "execution_count": 15,
     "metadata": {},
     "output_type": "execute_result"
    }
   ],
   "source": [
    "l2"
   ]
  },
  {
   "cell_type": "code",
   "execution_count": 18,
   "id": "ee1ec170",
   "metadata": {},
   "outputs": [
    {
     "name": "stdout",
     "output_type": "stream",
     "text": [
      "['abc', True, None]\n",
      "[10.7, 5, 'abc']\n",
      "[True, None, 30]\n",
      "[10.7, 'abc', None]\n"
     ]
    }
   ],
   "source": [
    "# slicing\n",
    "print(l2[2:5])\n",
    "print(l2[:3]) #0 ~ 2\n",
    "print(l2[3:])\n",
    "print(l2[::2])"
   ]
  },
  {
   "cell_type": "code",
   "execution_count": 21,
   "id": "d6d0c87c",
   "metadata": {},
   "outputs": [
    {
     "data": {
      "text/plain": [
       "[100, 5, 'abc', True, None, 30]"
      ]
     },
     "execution_count": 21,
     "metadata": {},
     "output_type": "execute_result"
    }
   ],
   "source": [
    "# 리스트는 원소를 변경할 수 있다. 변경->대입연산\n",
    "l2[0] = 100\n",
    "l2"
   ]
  },
  {
   "cell_type": "code",
   "execution_count": 22,
   "id": "57a67c09",
   "metadata": {},
   "outputs": [
    {
     "data": {
      "text/plain": [
       "[1, 2, 3, 4, 5, True, None, 30]"
      ]
     },
     "execution_count": 22,
     "metadata": {},
     "output_type": "execute_result"
    }
   ],
   "source": [
    "# slicing을 이용하면 지정한 범위의 원소들을 한번에 바꿀 수 있다.\n",
    "l2[:3] = [1,2,3,4,5] # 0 ~ 2 index의 값들을 1,2,3,4,5\n",
    "l2"
   ]
  },
  {
   "cell_type": "code",
   "execution_count": 23,
   "id": "5bbd2715",
   "metadata": {},
   "outputs": [
    {
     "data": {
      "text/plain": [
       "[1, 2, True, None, 30]"
      ]
     },
     "execution_count": 23,
     "metadata": {},
     "output_type": "execute_result"
    }
   ],
   "source": [
    "l2[2:5] =[] #특정 범위의 원소들을 삭제\n",
    "l2"
   ]
  },
  {
   "cell_type": "code",
   "execution_count": 24,
   "id": "e8272be1",
   "metadata": {},
   "outputs": [
    {
     "data": {
      "text/plain": [
       "[2, True, None, 30]"
      ]
     },
     "execution_count": 24,
     "metadata": {},
     "output_type": "execute_result"
    }
   ],
   "source": [
    "del l2[0] #하나의 원소만 삭제: del 명령어 사용.\n",
    "l2"
   ]
  },
  {
   "cell_type": "markdown",
   "id": "bb68ac29",
   "metadata": {},
   "source": [
    "**리스트를 포함한 자료구조도 값이다.**\n",
    "- 리스트에 다른 자료구조들을 원소로 추가할 수 있다."
   ]
  },
  {
   "cell_type": "code",
   "execution_count": 27,
   "id": "0b3eab2d",
   "metadata": {},
   "outputs": [],
   "source": [
    "l3 = [[1,2], [3,4], [5,6]]"
   ]
  },
  {
   "cell_type": "code",
   "execution_count": 28,
   "id": "cbe3b46f",
   "metadata": {},
   "outputs": [
    {
     "data": {
      "text/plain": [
       "[1, 2]"
      ]
     },
     "execution_count": 28,
     "metadata": {},
     "output_type": "execute_result"
    }
   ],
   "source": [
    "l3[0]"
   ]
  },
  {
   "cell_type": "code",
   "execution_count": 30,
   "id": "824729e1",
   "metadata": {},
   "outputs": [
    {
     "data": {
      "text/plain": [
       "[1, 2]"
      ]
     },
     "execution_count": 30,
     "metadata": {},
     "output_type": "execute_result"
    }
   ],
   "source": [
    "l4 = l3[0]\n",
    "l4"
   ]
  },
  {
   "cell_type": "code",
   "execution_count": 31,
   "id": "6c4253e9",
   "metadata": {},
   "outputs": [
    {
     "data": {
      "text/plain": [
       "2"
      ]
     },
     "execution_count": 31,
     "metadata": {},
     "output_type": "execute_result"
    }
   ],
   "source": [
    "l4[1]"
   ]
  },
  {
   "cell_type": "code",
   "execution_count": 32,
   "id": "91e604bf",
   "metadata": {},
   "outputs": [
    {
     "data": {
      "text/plain": [
       "2"
      ]
     },
     "execution_count": 32,
     "metadata": {},
     "output_type": "execute_result"
    }
   ],
   "source": [
    "l3[0][1]"
   ]
  },
  {
   "cell_type": "code",
   "execution_count": 34,
   "id": "09c98cb5",
   "metadata": {},
   "outputs": [
    {
     "name": "stdout",
     "output_type": "stream",
     "text": [
      "2\n",
      "5\n"
     ]
    }
   ],
   "source": [
    "print(l3[0][1])\n",
    "print(l3[2][0])"
   ]
  },
  {
   "cell_type": "code",
   "execution_count": 35,
   "id": "1312e2dd",
   "metadata": {},
   "outputs": [],
   "source": [
    "l4 = [\n",
    "    [\n",
    "        [1,2], [3,4],[5,6]\n",
    "    ],\n",
    "    [\n",
    "        [10,20],[30,40],[50,60]\n",
    "        \n",
    "    ]\n",
    "    \n",
    "]"
   ]
  },
  {
   "cell_type": "code",
   "execution_count": 36,
   "id": "97e50cef",
   "metadata": {},
   "outputs": [
    {
     "data": {
      "text/plain": [
       "4"
      ]
     },
     "execution_count": 36,
     "metadata": {},
     "output_type": "execute_result"
    }
   ],
   "source": [
    "l4[0][1][1]"
   ]
  },
  {
   "cell_type": "code",
   "execution_count": 39,
   "id": "13070c4f",
   "metadata": {},
   "outputs": [
    {
     "data": {
      "text/plain": [
       "60"
      ]
     },
     "execution_count": 39,
     "metadata": {},
     "output_type": "execute_result"
    }
   ],
   "source": [
    "l4[1][2][1]"
   ]
  },
  {
   "cell_type": "markdown",
   "id": "c8cff4a7",
   "metadata": {},
   "source": [
    "### 리스트 연산자\n",
    "- 리스트 + 리스트 : 두 리스트를 합친 새로운 리스트 변환"
   ]
  },
  {
   "cell_type": "code",
   "execution_count": 40,
   "id": "3268394c",
   "metadata": {},
   "outputs": [
    {
     "name": "stdout",
     "output_type": "stream",
     "text": [
      "[1, 2, 3, 10, 20, 30]\n"
     ]
    }
   ],
   "source": [
    "l1 = [1,2,3]\n",
    "l2 = [10,20,30]\n",
    "l3 = l1 + l2\n",
    "print(l3)"
   ]
  },
  {
   "cell_type": "code",
   "execution_count": 41,
   "id": "fe8c7234",
   "metadata": {},
   "outputs": [
    {
     "data": {
      "text/plain": [
       "[1, 2, 3, 1, 2, 3, 1, 2, 3]"
      ]
     },
     "execution_count": 41,
     "metadata": {},
     "output_type": "execute_result"
    }
   ],
   "source": [
    "l4 = l1 * 3\n",
    "l4"
   ]
  },
  {
   "cell_type": "code",
   "execution_count": 42,
   "id": "d3ff3bd6",
   "metadata": {},
   "outputs": [
    {
     "data": {
      "text/plain": [
       "True"
      ]
     },
     "execution_count": 42,
     "metadata": {},
     "output_type": "execute_result"
    }
   ],
   "source": [
    "10 in l1\n",
    "1 in l1"
   ]
  },
  {
   "cell_type": "code",
   "execution_count": 44,
   "id": "28f7d7b9",
   "metadata": {},
   "outputs": [
    {
     "data": {
      "text/plain": [
       "False"
      ]
     },
     "execution_count": 44,
     "metadata": {},
     "output_type": "execute_result"
    }
   ],
   "source": [
    "10 not in l1\n",
    "1 not in l1"
   ]
  },
  {
   "cell_type": "markdown",
   "id": "b9a27631",
   "metadata": {},
   "source": [
    "### 리스트 대입\n",
    "여러개의 변수에 리스트의 값들을 한번에 대입"
   ]
  },
  {
   "cell_type": "code",
   "execution_count": 45,
   "id": "e25b9b20",
   "metadata": {},
   "outputs": [
    {
     "name": "stdout",
     "output_type": "stream",
     "text": [
      "1 2 3\n",
      "6\n"
     ]
    }
   ],
   "source": [
    "a, b, c = [1,2,3] # 변수와 리스트원소의 개수가 같아야 한다.\n",
    "print(a,b,c) \n",
    "print(a+b+c)"
   ]
  },
  {
   "cell_type": "code",
   "execution_count": 46,
   "id": "b846b9e2",
   "metadata": {},
   "outputs": [],
   "source": [
    "a,b,c = 10,20,30 #튜플 대입"
   ]
  },
  {
   "cell_type": "markdown",
   "id": "34672d30",
   "metadata": {},
   "source": [
    "주요 함수"
   ]
  },
  {
   "cell_type": "code",
   "execution_count": 47,
   "id": "58eda873",
   "metadata": {},
   "outputs": [
    {
     "name": "stdout",
     "output_type": "stream",
     "text": [
      "원소개수: 3\n"
     ]
    }
   ],
   "source": [
    "print(\"원소개수:\", len(l1))"
   ]
  },
  {
   "cell_type": "code",
   "execution_count": 48,
   "id": "cb1872fe",
   "metadata": {},
   "outputs": [
    {
     "data": {
      "text/plain": [
       "[1, 2, 3, 10]"
      ]
     },
     "execution_count": 48,
     "metadata": {},
     "output_type": "execute_result"
    }
   ],
   "source": [
    "l1.append(10) #list.append(추가할값)\n",
    "l1"
   ]
  },
  {
   "cell_type": "code",
   "execution_count": 49,
   "id": "5de3d0e3",
   "metadata": {},
   "outputs": [
    {
     "data": {
      "text/plain": [
       "[1, 2, 3, 10, 20]"
      ]
     },
     "execution_count": 49,
     "metadata": {},
     "output_type": "execute_result"
    }
   ],
   "source": [
    "l1.append(20)\n",
    "l1"
   ]
  },
  {
   "cell_type": "code",
   "execution_count": 50,
   "id": "54577847",
   "metadata": {},
   "outputs": [
    {
     "data": {
      "text/plain": [
       "[1, 2, 3, 10, 20, 3, 4, 5]"
      ]
     },
     "execution_count": 50,
     "metadata": {},
     "output_type": "execute_result"
    }
   ],
   "source": [
    "l1.extend([3,4,5])\n",
    "l1"
   ]
  },
  {
   "cell_type": "code",
   "execution_count": 51,
   "id": "c9fa692e",
   "metadata": {},
   "outputs": [
    {
     "data": {
      "text/plain": [
       "[1, 2, 3, 10, 20, 3, 4, 5, 30, 40, 50]"
      ]
     },
     "execution_count": 51,
     "metadata": {},
     "output_type": "execute_result"
    }
   ],
   "source": [
    "l1 + [30,40,50] # l1과 [30,40,50]을 합친 새로운 리스트가 반환(l1은 안바뀐다)"
   ]
  },
  {
   "cell_type": "code",
   "execution_count": 52,
   "id": "b9f63018",
   "metadata": {},
   "outputs": [
    {
     "data": {
      "text/plain": [
       "[1, 2, 3, 10, 20, 3, 4, 5]"
      ]
     },
     "execution_count": 52,
     "metadata": {},
     "output_type": "execute_result"
    }
   ],
   "source": [
    "l1"
   ]
  },
  {
   "cell_type": "code",
   "execution_count": 54,
   "id": "36f8ab10",
   "metadata": {},
   "outputs": [
    {
     "data": {
      "text/plain": [
       "[1, 2, 3, 3, 4, 5, 10, 20]"
      ]
     },
     "execution_count": 54,
     "metadata": {},
     "output_type": "execute_result"
    }
   ],
   "source": [
    "# 정렬 - sorted(리스트): 원본 리스틀 변경하지 않고 정렬한 새로운 리스트를 반환\n",
    "sorted(l1) #오름차순\n",
    "sorted(l1, reverse=True) #내림차순\n",
    "l2 = sorted(l1)\n",
    "l2"
   ]
  },
  {
   "cell_type": "code",
   "execution_count": 55,
   "id": "fefb4a29",
   "metadata": {},
   "outputs": [],
   "source": [
    "# 정렬 - 리스트.sort() - 원본 리스트 자체를 정렬한다.\n",
    "l1.sort()"
   ]
  },
  {
   "cell_type": "code",
   "execution_count": 56,
   "id": "08b9d136",
   "metadata": {},
   "outputs": [
    {
     "data": {
      "text/plain": [
       "[1, 2, 3, 3, 4, 5, 10, 20]"
      ]
     },
     "execution_count": 56,
     "metadata": {},
     "output_type": "execute_result"
    }
   ],
   "source": [
    "l1"
   ]
  },
  {
   "cell_type": "code",
   "execution_count": 57,
   "id": "df2e9ae6",
   "metadata": {},
   "outputs": [
    {
     "data": {
      "text/plain": [
       "[20, 10, 5, 4, 3, 3, 2, 1]"
      ]
     },
     "execution_count": 57,
     "metadata": {},
     "output_type": "execute_result"
    }
   ],
   "source": [
    "l1.sort(reverse=True) # 내림차순\n",
    "l1"
   ]
  },
  {
   "cell_type": "code",
   "execution_count": 58,
   "id": "6c789aae",
   "metadata": {},
   "outputs": [
    {
     "data": {
      "text/plain": [
       "[20, 10, 5, '가나다', 4, 3, 3, 2, 1]"
      ]
     },
     "execution_count": 58,
     "metadata": {},
     "output_type": "execute_result"
    }
   ],
   "source": [
    "l1.insert(3, '가나다') # index 3에 '가나다'를 삽입\n",
    "l1"
   ]
  },
  {
   "cell_type": "code",
   "execution_count": 59,
   "id": "0459af5b",
   "metadata": {},
   "outputs": [
    {
     "data": {
      "text/plain": [
       "[10, 5, '가나다', 4, 3, 3, 2, 1]"
      ]
     },
     "execution_count": 59,
     "metadata": {},
     "output_type": "execute_result"
    }
   ],
   "source": [
    "# index로 원소 삭제 :del\n",
    "del l1[0]\n",
    "l1"
   ]
  },
  {
   "cell_type": "code",
   "execution_count": 60,
   "id": "29c52569",
   "metadata": {},
   "outputs": [
    {
     "data": {
      "text/plain": [
       "[10, 5, 4, 3, 3, 2, 1]"
      ]
     },
     "execution_count": 60,
     "metadata": {},
     "output_type": "execute_result"
    }
   ],
   "source": [
    "# 값으로 삭제\n",
    "l1.remove('가나다')\n",
    "l1"
   ]
  },
  {
   "cell_type": "code",
   "execution_count": 61,
   "id": "eae60a5e",
   "metadata": {},
   "outputs": [
    {
     "data": {
      "text/plain": [
       "[5, 4, 3, 3, 2, 1]"
      ]
     },
     "execution_count": 61,
     "metadata": {},
     "output_type": "execute_result"
    }
   ],
   "source": [
    "l1.remove(10) # 값이 여러개일 경우 첫번째 값만 삭제\n",
    "l1"
   ]
  },
  {
   "cell_type": "code",
   "execution_count": 62,
   "id": "ebe93e02",
   "metadata": {},
   "outputs": [
    {
     "data": {
      "text/plain": [
       "0"
      ]
     },
     "execution_count": 62,
     "metadata": {},
     "output_type": "execute_result"
    }
   ],
   "source": [
    "l1.count(10) #값 10이 몇개인지"
   ]
  },
  {
   "cell_type": "code",
   "execution_count": 64,
   "id": "a6a8ef1d",
   "metadata": {},
   "outputs": [
    {
     "data": {
      "text/plain": [
       "[]"
      ]
     },
     "execution_count": 64,
     "metadata": {},
     "output_type": "execute_result"
    }
   ],
   "source": [
    "l1.clear()\n",
    "l1"
   ]
  },
  {
   "cell_type": "code",
   "execution_count": 65,
   "id": "e0a11ff1",
   "metadata": {},
   "outputs": [
    {
     "ename": "IndexError",
     "evalue": "list assignment index out of range",
     "output_type": "error",
     "traceback": [
      "\u001b[1;31m---------------------------------------------------------------------------\u001b[0m",
      "\u001b[1;31mIndexError\u001b[0m                                Traceback (most recent call last)",
      "\u001b[1;32m~\\AppData\\Local\\Temp/ipykernel_6296/3287298610.py\u001b[0m in \u001b[0;36m<module>\u001b[1;34m\u001b[0m\n\u001b[0;32m      1\u001b[0m \u001b[1;31m# l1.append(10)\u001b[0m\u001b[1;33m\u001b[0m\u001b[1;33m\u001b[0m\u001b[0m\n\u001b[0;32m      2\u001b[0m \u001b[1;31m# l1\u001b[0m\u001b[1;33m\u001b[0m\u001b[1;33m\u001b[0m\u001b[0m\n\u001b[1;32m----> 3\u001b[1;33m \u001b[0ml1\u001b[0m\u001b[1;33m[\u001b[0m\u001b[1;36m0\u001b[0m\u001b[1;33m]\u001b[0m \u001b[1;33m=\u001b[0m \u001b[1;36m100000\u001b[0m\u001b[1;33m\u001b[0m\u001b[1;33m\u001b[0m\u001b[0m\n\u001b[0m\u001b[0;32m      4\u001b[0m \u001b[0ml1\u001b[0m\u001b[1;33m\u001b[0m\u001b[1;33m\u001b[0m\u001b[0m\n",
      "\u001b[1;31mIndexError\u001b[0m: list assignment index out of range"
     ]
    }
   ],
   "source": [
    "# l1.append(10)\n",
    "# l1\n",
    "l1[0] = 100000\n",
    "l1"
   ]
  },
  {
   "cell_type": "markdown",
   "id": "54dbd701",
   "metadata": {},
   "source": [
    "# 튜플(Tuple)\n",
    "- 리스트 처럼 순서가 있는 자료구조\n",
    "        - index (양수,음수)로 원소를 관리\n",
    "        - 원소를 변경할 수 없다. (추가,삭제,변경이 안된다.)\n",
    "- 생성"
   ]
  },
  {
   "cell_type": "code",
   "execution_count": 2,
   "id": "adee51c0",
   "metadata": {},
   "outputs": [],
   "source": [
    "t1 = (1,2,3,4,5) #소괄호로 묶는다.\n",
    "t2 = 10,20,30,40,50 # 소괄호 생략가능\n",
    "\n"
   ]
  },
  {
   "cell_type": "code",
   "execution_count": 3,
   "id": "9ba362fd",
   "metadata": {},
   "outputs": [
    {
     "data": {
      "text/plain": [
       "(1, 2, 3, 4, 5)"
      ]
     },
     "execution_count": 3,
     "metadata": {},
     "output_type": "execute_result"
    }
   ],
   "source": [
    "t1"
   ]
  },
  {
   "cell_type": "code",
   "execution_count": 4,
   "id": "c8f7339b",
   "metadata": {},
   "outputs": [
    {
     "data": {
      "text/plain": [
       "(10, 20, 30, 40, 50)"
      ]
     },
     "execution_count": 4,
     "metadata": {},
     "output_type": "execute_result"
    }
   ],
   "source": [
    "t2\n"
   ]
  },
  {
   "cell_type": "code",
   "execution_count": 5,
   "id": "5a4de21b",
   "metadata": {},
   "outputs": [
    {
     "data": {
      "text/plain": [
       "(10, '가', True)"
      ]
     },
     "execution_count": 5,
     "metadata": {},
     "output_type": "execute_result"
    }
   ],
   "source": [
    "t3 = 10, '가', True\n",
    "t3"
   ]
  },
  {
   "cell_type": "code",
   "execution_count": 9,
   "id": "da8ca899",
   "metadata": {},
   "outputs": [
    {
     "data": {
      "text/plain": [
       "(100, int, tuple)"
      ]
     },
     "execution_count": 9,
     "metadata": {},
     "output_type": "execute_result"
    }
   ],
   "source": [
    "t4=(100) #t4=100\n",
    "t4,type(t4), type(t3)\n"
   ]
  },
  {
   "cell_type": "code",
   "execution_count": 10,
   "id": "99d1fceb",
   "metadata": {},
   "outputs": [
    {
     "name": "stdout",
     "output_type": "stream",
     "text": [
      "(100,) (100,)\n",
      "<class 'tuple'> <class 'tuple'>\n"
     ]
    }
   ],
   "source": [
    "t5 = (100,) # 원소가 하나일 경우 뒤에 , 를 붙인다.\n",
    "t6 = 100,\n",
    "print(t5,t6)\n",
    "print(type(t5),type(t6))"
   ]
  },
  {
   "cell_type": "markdown",
   "id": "ccf2e363",
   "metadata": {},
   "source": [
    "### 튜플대입"
   ]
  },
  {
   "cell_type": "code",
   "execution_count": 11,
   "id": "1d838c47",
   "metadata": {},
   "outputs": [
    {
     "name": "stdout",
     "output_type": "stream",
     "text": [
      "홍길동 30 서울\n"
     ]
    }
   ],
   "source": [
    "name, age, address = ('홍길동',30,'서울') #튜플 대입\n",
    "print(name,age,address)\n",
    "# name,age,address = ['홍길동',30,'서울'] #리스트 대입"
   ]
  },
  {
   "cell_type": "code",
   "execution_count": 12,
   "id": "9684baa9",
   "metadata": {},
   "outputs": [
    {
     "name": "stdout",
     "output_type": "stream",
     "text": [
      "홍길동1 32 서울1\n"
     ]
    }
   ],
   "source": [
    "name,age,address= '홍길동1',32,'서울1' #튜플 대입\n",
    "print(name,age,address)"
   ]
  },
  {
   "cell_type": "markdown",
   "id": "17fd6332",
   "metadata": {},
   "source": [
    "### indexing, slicing\n",
    "    - 조회만 가능하고 원소를 변경할 수 없다."
   ]
  },
  {
   "cell_type": "code",
   "execution_count": 13,
   "id": "4fdef32b",
   "metadata": {},
   "outputs": [
    {
     "data": {
      "text/plain": [
       "(100, 20, 8)"
      ]
     },
     "execution_count": 13,
     "metadata": {},
     "output_type": "execute_result"
    }
   ],
   "source": [
    "t7 = 100,4,7,20,20,1,8\n",
    "t7[0], t7[3], t7[6]"
   ]
  },
  {
   "cell_type": "code",
   "execution_count": 14,
   "id": "7dbb5256",
   "metadata": {},
   "outputs": [
    {
     "ename": "TypeError",
     "evalue": "'tuple' object does not support item assignment",
     "output_type": "error",
     "traceback": [
      "\u001b[1;31m---------------------------------------------------------------------------\u001b[0m",
      "\u001b[1;31mTypeError\u001b[0m                                 Traceback (most recent call last)",
      "\u001b[1;32m~\\AppData\\Local\\Temp/ipykernel_1224/2212224651.py\u001b[0m in \u001b[0;36m<module>\u001b[1;34m\u001b[0m\n\u001b[1;32m----> 1\u001b[1;33m \u001b[0mt7\u001b[0m\u001b[1;33m[\u001b[0m\u001b[1;36m0\u001b[0m\u001b[1;33m]\u001b[0m\u001b[1;33m=\u001b[0m\u001b[1;36m40\u001b[0m\u001b[1;33m\u001b[0m\u001b[1;33m\u001b[0m\u001b[0m\n\u001b[0m",
      "\u001b[1;31mTypeError\u001b[0m: 'tuple' object does not support item assignment"
     ]
    }
   ],
   "source": [
    "t7[0]=40"
   ]
  },
  {
   "cell_type": "code",
   "execution_count": 15,
   "id": "79ffc905",
   "metadata": {},
   "outputs": [
    {
     "data": {
      "text/plain": [
       "(100, 7, 20, 8)"
      ]
     },
     "execution_count": 15,
     "metadata": {},
     "output_type": "execute_result"
    }
   ],
   "source": [
    "t7[::2]"
   ]
  },
  {
   "cell_type": "code",
   "execution_count": 16,
   "id": "8aa9b6d6",
   "metadata": {},
   "outputs": [
    {
     "data": {
      "text/plain": [
       "(8, 1, 20, 20, 7, 4, 100)"
      ]
     },
     "execution_count": 16,
     "metadata": {},
     "output_type": "execute_result"
    }
   ],
   "source": [
    "t7[::-1]"
   ]
  },
  {
   "cell_type": "code",
   "execution_count": 17,
   "id": "3e27fdc8",
   "metadata": {},
   "outputs": [
    {
     "data": {
      "text/plain": [
       "20"
      ]
     },
     "execution_count": 17,
     "metadata": {},
     "output_type": "execute_result"
    }
   ],
   "source": [
    "t7[-3]"
   ]
  },
  {
   "cell_type": "code",
   "execution_count": 18,
   "id": "e5947658",
   "metadata": {},
   "outputs": [
    {
     "data": {
      "text/plain": [
       "(100, 4, 7, 20, 20, 1, 8)"
      ]
     },
     "execution_count": 18,
     "metadata": {},
     "output_type": "execute_result"
    }
   ],
   "source": [
    "t7"
   ]
  },
  {
   "cell_type": "code",
   "execution_count": null,
   "id": "d293ef92",
   "metadata": {},
   "outputs": [],
   "source": []
  },
  {
   "cell_type": "markdown",
   "id": "52bc9b28",
   "metadata": {},
   "source": [
    "# 연산자"
   ]
  },
  {
   "cell_type": "markdown",
   "id": "a2335afe",
   "metadata": {},
   "source": []
  },
  {
   "cell_type": "code",
   "execution_count": 19,
   "id": "82e3edd5",
   "metadata": {},
   "outputs": [
    {
     "data": {
      "text/plain": [
       "False"
      ]
     },
     "execution_count": 19,
     "metadata": {},
     "output_type": "execute_result"
    }
   ],
   "source": [
    "10 in t7"
   ]
  },
  {
   "cell_type": "code",
   "execution_count": 20,
   "id": "549915fb",
   "metadata": {},
   "outputs": [
    {
     "data": {
      "text/plain": [
       "True"
      ]
     },
     "execution_count": 20,
     "metadata": {},
     "output_type": "execute_result"
    }
   ],
   "source": [
    "8in t7"
   ]
  },
  {
   "cell_type": "code",
   "execution_count": 21,
   "id": "c4223b31",
   "metadata": {},
   "outputs": [
    {
     "data": {
      "text/plain": [
       "False"
      ]
     },
     "execution_count": 21,
     "metadata": {},
     "output_type": "execute_result"
    }
   ],
   "source": [
    "10 not in t7\n",
    "8 not in t7"
   ]
  },
  {
   "cell_type": "code",
   "execution_count": 22,
   "id": "45bfabe8",
   "metadata": {},
   "outputs": [
    {
     "data": {
      "text/plain": [
       "(1, 2, 3, 4, 5, 10, 20, 30, 40, 50)"
      ]
     },
     "execution_count": 22,
     "metadata": {},
     "output_type": "execute_result"
    }
   ],
   "source": [
    "t1 + t2"
   ]
  },
  {
   "cell_type": "code",
   "execution_count": 23,
   "id": "85b1bffa",
   "metadata": {},
   "outputs": [
    {
     "data": {
      "text/plain": [
       "(1, 2, 3, 4, 5, 1, 2, 3, 4, 5)"
      ]
     },
     "execution_count": 23,
     "metadata": {},
     "output_type": "execute_result"
    }
   ],
   "source": [
    "t1 * 2"
   ]
  },
  {
   "cell_type": "code",
   "execution_count": 25,
   "id": "5ba13080",
   "metadata": {},
   "outputs": [
    {
     "data": {
      "text/plain": [
       "[1, 4, 7, 8, 20, 20, 100]"
      ]
     },
     "execution_count": 25,
     "metadata": {},
     "output_type": "execute_result"
    }
   ],
   "source": [
    "sorted_t7=sorted(t7)\n",
    "sorted_t7"
   ]
  },
  {
   "cell_type": "code",
   "execution_count": 26,
   "id": "19b9ea82",
   "metadata": {},
   "outputs": [
    {
     "data": {
      "text/plain": [
       "(100, 4, 7, 20, 20, 1, 8)"
      ]
     },
     "execution_count": 26,
     "metadata": {},
     "output_type": "execute_result"
    }
   ],
   "source": [
    "t7"
   ]
  },
  {
   "cell_type": "markdown",
   "id": "637363df",
   "metadata": {},
   "source": [
    "# 딕셔너리\n",
    "    데이터를 key:value 쌍(pair)로 모아서 관리하는 자료구조"
   ]
  },
  {
   "cell_type": "code",
   "execution_count": 27,
   "id": "71d1dd06",
   "metadata": {},
   "outputs": [
    {
     "data": {
      "text/plain": [
       "{'name': '홍길동', 'age': 20, 'address': '서울'}"
      ]
     },
     "execution_count": 27,
     "metadata": {},
     "output_type": "execute_result"
    }
   ],
   "source": [
    "# 생성\n",
    "person1 = {\"name\":\"홍길동\",\"age\":20,\"address\":\"서울\"}\n",
    "person2 = {\"age\":30, \"name\":\"이순신\",\"address\":\"서울\"}\n",
    "person1"
   ]
  },
  {
   "cell_type": "code",
   "execution_count": 28,
   "id": "53cf934f",
   "metadata": {},
   "outputs": [
    {
     "data": {
      "text/plain": [
       "{'age': 30, 'name': '이순신', 'address': '서울'}"
      ]
     },
     "execution_count": 28,
     "metadata": {},
     "output_type": "execute_result"
    }
   ],
   "source": [
    "person2"
   ]
  },
  {
   "cell_type": "code",
   "execution_count": 29,
   "id": "b759a551",
   "metadata": {},
   "outputs": [
    {
     "name": "stdout",
     "output_type": "stream",
     "text": [
      "홍길동 이순신\n",
      "20 30\n"
     ]
    }
   ],
   "source": [
    "# 값 조회\n",
    "print(person1['name'], person2['name'])\n",
    "print(person1['age'], person2['age'])"
   ]
  },
  {
   "cell_type": "code",
   "execution_count": 30,
   "id": "6c285469",
   "metadata": {},
   "outputs": [
    {
     "data": {
      "text/plain": [
       "{'name': '박철웅', 'age': 20, 'address': '서울'}"
      ]
     },
     "execution_count": 30,
     "metadata": {},
     "output_type": "execute_result"
    }
   ],
   "source": [
    "# 값 변경\n",
    "person1['name'] = '박철웅'\n",
    "person1"
   ]
  },
  {
   "cell_type": "code",
   "execution_count": 31,
   "id": "fa7b2ce7",
   "metadata": {},
   "outputs": [
    {
     "data": {
      "text/plain": [
       "{'name': '박철웅', 'age': 20, 'address': '서울', 'tel': '010-111-2222'}"
      ]
     },
     "execution_count": 31,
     "metadata": {},
     "output_type": "execute_result"
    }
   ],
   "source": [
    "person1['tel'] = '010-111-2222' #업슨 key에 값을 대입하면 추가가 된다.\n",
    "person1"
   ]
  },
  {
   "cell_type": "code",
   "execution_count": 32,
   "id": "90f3f491",
   "metadata": {},
   "outputs": [
    {
     "ename": "NameError",
     "evalue": "name 'person' is not defined",
     "output_type": "error",
     "traceback": [
      "\u001b[1;31m---------------------------------------------------------------------------\u001b[0m",
      "\u001b[1;31mNameError\u001b[0m                                 Traceback (most recent call last)",
      "\u001b[1;32m~\\AppData\\Local\\Temp/ipykernel_1224/671637801.py\u001b[0m in \u001b[0;36m<module>\u001b[1;34m\u001b[0m\n\u001b[1;32m----> 1\u001b[1;33m \u001b[0mperson\u001b[0m\u001b[1;33m[\u001b[0m\u001b[1;34m'email'\u001b[0m\u001b[1;33m]\u001b[0m\u001b[1;33m\u001b[0m\u001b[1;33m\u001b[0m\u001b[0m\n\u001b[0m",
      "\u001b[1;31mNameError\u001b[0m: name 'person' is not defined"
     ]
    }
   ],
   "source": [
    "person['email'] #없는 key로 조회하면 keyError 발생"
   ]
  },
  {
   "cell_type": "code",
   "execution_count": 34,
   "id": "3f47c6cb",
   "metadata": {},
   "outputs": [
    {
     "name": "stdout",
     "output_type": "stream",
     "text": [
      "없음\n"
     ]
    }
   ],
   "source": [
    "# dictionary.get('key') : 조회\n",
    "# 없는 키값으로 조회하면 None(기본값). None대신 반환할 기본값을 설정할 수도 있다.\n",
    "v = person2.get('email',\"없음\")\n",
    "print(v)"
   ]
  },
  {
   "cell_type": "code",
   "execution_count": 35,
   "id": "0a0da1c0",
   "metadata": {},
   "outputs": [
    {
     "data": {
      "text/plain": [
       "(4, 3)"
      ]
     },
     "execution_count": 35,
     "metadata": {},
     "output_type": "execute_result"
    }
   ],
   "source": [
    "len(person1), len(person2)"
   ]
  },
  {
   "cell_type": "code",
   "execution_count": 36,
   "id": "94668ae8",
   "metadata": {},
   "outputs": [
    {
     "data": {
      "text/plain": [
       "{'name': '박철웅', 'age': 20, 'address': '서울', 'tel': '010-111-2222'}"
      ]
     },
     "execution_count": 36,
     "metadata": {},
     "output_type": "execute_result"
    }
   ],
   "source": [
    "person1"
   ]
  },
  {
   "cell_type": "code",
   "execution_count": 37,
   "id": "b4070b67",
   "metadata": {},
   "outputs": [
    {
     "data": {
      "text/plain": [
       "False"
      ]
     },
     "execution_count": 37,
     "metadata": {},
     "output_type": "execute_result"
    }
   ],
   "source": [
    "'박철웅' in person1"
   ]
  },
  {
   "cell_type": "code",
   "execution_count": 38,
   "id": "36c5f356",
   "metadata": {},
   "outputs": [
    {
     "data": {
      "text/plain": [
       "True"
      ]
     },
     "execution_count": 38,
     "metadata": {},
     "output_type": "execute_result"
    }
   ],
   "source": [
    "'name' in person1"
   ]
  },
  {
   "cell_type": "markdown",
   "id": "eeccd76f",
   "metadata": {},
   "source": [
    "# 주요 메소드"
   ]
  },
  {
   "cell_type": "code",
   "execution_count": 39,
   "id": "d1bb392c",
   "metadata": {},
   "outputs": [
    {
     "data": {
      "text/plain": [
       "'박철웅'"
      ]
     },
     "execution_count": 39,
     "metadata": {},
     "output_type": "execute_result"
    }
   ],
   "source": [
    "person1.pop('name')"
   ]
  },
  {
   "cell_type": "code",
   "execution_count": 40,
   "id": "ce46a247",
   "metadata": {},
   "outputs": [
    {
     "data": {
      "text/plain": [
       "{'age': 20, 'address': '서울', 'tel': '010-111-2222'}"
      ]
     },
     "execution_count": 40,
     "metadata": {},
     "output_type": "execute_result"
    }
   ],
   "source": [
    "person1"
   ]
  },
  {
   "cell_type": "code",
   "execution_count": 41,
   "id": "2eea909a",
   "metadata": {},
   "outputs": [
    {
     "data": {
      "text/plain": [
       "{'address': '서울', 'tel': '010-111-2222'}"
      ]
     },
     "execution_count": 41,
     "metadata": {},
     "output_type": "execute_result"
    }
   ],
   "source": [
    "del person1['age']\n",
    "person1"
   ]
  },
  {
   "cell_type": "code",
   "execution_count": 42,
   "id": "16909d30",
   "metadata": {},
   "outputs": [
    {
     "data": {
      "text/plain": [
       "dict_items([('address', '서울'), ('tel', '010-111-2222')])"
      ]
     },
     "execution_count": 42,
     "metadata": {},
     "output_type": "execute_result"
    }
   ],
   "source": [
    "person1.items()"
   ]
  },
  {
   "cell_type": "code",
   "execution_count": null,
   "id": "bc3f0257",
   "metadata": {},
   "outputs": [],
   "source": []
  },
  {
   "cell_type": "markdown",
   "id": "a191ff2d",
   "metadata": {},
   "source": [
    "# SET(집합)\n",
    "    1. 중복을 허용하지 않는 자료구조"
   ]
  },
  {
   "cell_type": "code",
   "execution_count": 44,
   "id": "aac7069f",
   "metadata": {},
   "outputs": [
    {
     "data": {
      "text/plain": [
       "{1, 2, 3, False, 'a'}"
      ]
     },
     "execution_count": 44,
     "metadata": {},
     "output_type": "execute_result"
    }
   ],
   "source": [
    "s1 = {1,1,1,2,2,2,3,3,3,'a','a','a',True,True,True,False,False} #True=1 False=0\n",
    "s1"
   ]
  },
  {
   "cell_type": "code",
   "execution_count": 45,
   "id": "ce94de00",
   "metadata": {},
   "outputs": [
    {
     "name": "stdout",
     "output_type": "stream",
     "text": [
      "{1}\n",
      "{0}\n"
     ]
    }
   ],
   "source": [
    "s2 = {1,True}\n",
    "s3 = {0, False}\n",
    "print(s2)\n",
    "print(s3)"
   ]
  },
  {
   "cell_type": "code",
   "execution_count": 46,
   "id": "631e06a7",
   "metadata": {},
   "outputs": [
    {
     "data": {
      "text/plain": [
       "{1, 2, 3, False, 'a'}"
      ]
     },
     "execution_count": 46,
     "metadata": {},
     "output_type": "execute_result"
    }
   ],
   "source": [
    "s1"
   ]
  },
  {
   "cell_type": "code",
   "execution_count": 47,
   "id": "2b32f2c4",
   "metadata": {},
   "outputs": [
    {
     "ename": "TypeError",
     "evalue": "'set' object is not subscriptable",
     "output_type": "error",
     "traceback": [
      "\u001b[1;31m---------------------------------------------------------------------------\u001b[0m",
      "\u001b[1;31mTypeError\u001b[0m                                 Traceback (most recent call last)",
      "\u001b[1;32m~\\AppData\\Local\\Temp/ipykernel_1224/2776372006.py\u001b[0m in \u001b[0;36m<module>\u001b[1;34m\u001b[0m\n\u001b[1;32m----> 1\u001b[1;33m \u001b[0ms1\u001b[0m\u001b[1;33m[\u001b[0m\u001b[1;36m0\u001b[0m\u001b[1;33m]\u001b[0m \u001b[1;31m# set은 원소 하나를 조회하는 것은 안된다. =>반복문이용\u001b[0m\u001b[1;33m\u001b[0m\u001b[1;33m\u001b[0m\u001b[0m\n\u001b[0m",
      "\u001b[1;31mTypeError\u001b[0m: 'set' object is not subscriptable"
     ]
    }
   ],
   "source": [
    "s1[0] # set은 원소 하나를 조회하는 것은 안된다. =>반복문이용"
   ]
  },
  {
   "cell_type": "markdown",
   "id": "d7003e88",
   "metadata": {},
   "source": [
    "# 연산자"
   ]
  },
  {
   "cell_type": "code",
   "execution_count": 51,
   "id": "5f8f047d",
   "metadata": {},
   "outputs": [
    {
     "data": {
      "text/plain": [
       "False"
      ]
     },
     "execution_count": 51,
     "metadata": {},
     "output_type": "execute_result"
    }
   ],
   "source": [
    "1 in s1\n",
    "100 in s1"
   ]
  },
  {
   "cell_type": "code",
   "execution_count": 52,
   "id": "8926cb4d",
   "metadata": {},
   "outputs": [
    {
     "data": {
      "text/plain": [
       "True"
      ]
     },
     "execution_count": 52,
     "metadata": {},
     "output_type": "execute_result"
    }
   ],
   "source": [
    "1 not in s1\n",
    "100 not in s1"
   ]
  },
  {
   "cell_type": "code",
   "execution_count": 54,
   "id": "bd99e693",
   "metadata": {},
   "outputs": [
    {
     "name": "stdout",
     "output_type": "stream",
     "text": [
      "{1, 2, 3, 4, 5}\n",
      "{1, 2, 3, 4, 5}\n"
     ]
    }
   ],
   "source": [
    "s1 = {1,2,3}\n",
    "s2 = {3,4,5}\n",
    "\n",
    "# 합집합\n",
    "s3 =s1 | s2 # {1,2,3,3,4,5}\n",
    "s4 = s1.union(s2)\n",
    "print(s3)\n",
    "print(s4)"
   ]
  },
  {
   "cell_type": "code",
   "execution_count": 55,
   "id": "f6a5cd26",
   "metadata": {},
   "outputs": [
    {
     "name": "stdout",
     "output_type": "stream",
     "text": [
      "{3} {3}\n"
     ]
    }
   ],
   "source": [
    "# 교집합\n",
    "s5 = s1 & s2\n",
    "s6 = s1.intersection(s2)\n",
    "print(s5,s6)"
   ]
  },
  {
   "cell_type": "code",
   "execution_count": 57,
   "id": "51be330c",
   "metadata": {},
   "outputs": [
    {
     "name": "stdout",
     "output_type": "stream",
     "text": [
      "{1, 2}\n",
      "{1, 2}\n"
     ]
    }
   ],
   "source": [
    "# 차집합\n",
    "s7 = s1 - s2\n",
    "s8 = s1.difference(s2)\n",
    "print(s7)\n",
    "print(s8)"
   ]
  },
  {
   "cell_type": "code",
   "execution_count": 58,
   "id": "550f506e",
   "metadata": {},
   "outputs": [
    {
     "name": "stdout",
     "output_type": "stream",
     "text": [
      "{1, 2, 3, 4, 5}\n"
     ]
    },
    {
     "data": {
      "text/plain": [
       "{1, 2, 3, 4, 5, 10}"
      ]
     },
     "execution_count": 58,
     "metadata": {},
     "output_type": "execute_result"
    }
   ],
   "source": [
    "# 추가\n",
    "s2.add(10)\n",
    "print(s3)\n",
    "s3.add(10) # 있는 값을 추가\n",
    "s3"
   ]
  },
  {
   "cell_type": "code",
   "execution_count": 59,
   "id": "243cffb8",
   "metadata": {},
   "outputs": [],
   "source": [
    "s3.update([1,2,3,100,200,300,400])"
   ]
  },
  {
   "cell_type": "code",
   "execution_count": 60,
   "id": "67f1d1df",
   "metadata": {},
   "outputs": [
    {
     "data": {
      "text/plain": [
       "{1, 2, 3, 4, 5, 10, 100, 200, 300, 400}"
      ]
     },
     "execution_count": 60,
     "metadata": {},
     "output_type": "execute_result"
    }
   ],
   "source": [
    "s3"
   ]
  },
  {
   "cell_type": "code",
   "execution_count": 61,
   "id": "8e0c4739",
   "metadata": {},
   "outputs": [
    {
     "name": "stdout",
     "output_type": "stream",
     "text": [
      "1\n"
     ]
    },
    {
     "data": {
      "text/plain": [
       "{2, 3, 4, 5, 10, 100, 200, 300, 400}"
      ]
     },
     "execution_count": 61,
     "metadata": {},
     "output_type": "execute_result"
    }
   ],
   "source": [
    "v = s3.pop()\n",
    "print(v)\n",
    "s3"
   ]
  },
  {
   "cell_type": "code",
   "execution_count": 62,
   "id": "5e88988f",
   "metadata": {},
   "outputs": [
    {
     "data": {
      "text/plain": [
       "{2, 3, 4, 10, 100, 200, 300, 400}"
      ]
     },
     "execution_count": 62,
     "metadata": {},
     "output_type": "execute_result"
    }
   ],
   "source": [
    "s3.remove(5) # s3의 원소중 5를 삭제\n",
    "s3"
   ]
  },
  {
   "cell_type": "code",
   "execution_count": 63,
   "id": "ea626d96",
   "metadata": {},
   "outputs": [
    {
     "ename": "KeyError",
     "evalue": "'가'",
     "output_type": "error",
     "traceback": [
      "\u001b[1;31m---------------------------------------------------------------------------\u001b[0m",
      "\u001b[1;31mKeyError\u001b[0m                                  Traceback (most recent call last)",
      "\u001b[1;32m~\\AppData\\Local\\Temp/ipykernel_1224/1770401216.py\u001b[0m in \u001b[0;36m<module>\u001b[1;34m\u001b[0m\n\u001b[1;32m----> 1\u001b[1;33m \u001b[0ms3\u001b[0m\u001b[1;33m.\u001b[0m\u001b[0mremove\u001b[0m\u001b[1;33m(\u001b[0m\u001b[1;34m'가'\u001b[0m\u001b[1;33m)\u001b[0m \u001b[1;31m# 없는 값 삭제시 KeyError 발생\u001b[0m\u001b[1;33m\u001b[0m\u001b[1;33m\u001b[0m\u001b[0m\n\u001b[0m",
      "\u001b[1;31mKeyError\u001b[0m: '가'"
     ]
    }
   ],
   "source": [
    "s3.remove('가') # 없는 값 삭제시 KeyError 발생"
   ]
  },
  {
   "cell_type": "code",
   "execution_count": 64,
   "id": "845e9f3e",
   "metadata": {},
   "outputs": [],
   "source": [
    "var1 = [] #빈리스트"
   ]
  },
  {
   "cell_type": "markdown",
   "id": "27e030c6",
   "metadata": {},
   "source": [
    "# 자료구조 변환 함수\n",
    "- list(자료구조): 자료구조를 List로 변환\n",
    "- tuple(자료구조): 자료구조를 Tuple로 변환\n",
    "- set(자료구조): 자료구조를 Set으로 변환\n",
    "- Dictionary로 변환하는 함수는 없다.\n",
    "- 변경할 대상 자료구조가 Dictionary"
   ]
  },
  {
   "cell_type": "code",
   "execution_count": 65,
   "id": "01992b81",
   "metadata": {},
   "outputs": [
    {
     "data": {
      "text/plain": [
       "([1, 2, 10, 5, 10, 2], list)"
      ]
     },
     "execution_count": 65,
     "metadata": {},
     "output_type": "execute_result"
    }
   ],
   "source": [
    "t = 1,2,10,5,10,2\n",
    "l = list(t)\n",
    "l,type(l)"
   ]
  },
  {
   "cell_type": "code",
   "execution_count": 66,
   "id": "0534cd83",
   "metadata": {},
   "outputs": [
    {
     "data": {
      "text/plain": [
       "({1, 2, 5, 10}, set)"
      ]
     },
     "execution_count": 66,
     "metadata": {},
     "output_type": "execute_result"
    }
   ],
   "source": [
    "s = set(t)\n",
    "s, type(s)"
   ]
  },
  {
   "cell_type": "code",
   "execution_count": 67,
   "id": "51cc25af",
   "metadata": {},
   "outputs": [
    {
     "data": {
      "text/plain": [
       "(1, 3, 10, 20, 11)"
      ]
     },
     "execution_count": 67,
     "metadata": {},
     "output_type": "execute_result"
    }
   ],
   "source": [
    "t1 = tuple([1,3,10,20,11]) #List->tuple\n",
    "t1"
   ]
  },
  {
   "cell_type": "code",
   "execution_count": 68,
   "id": "3bf42918",
   "metadata": {},
   "outputs": [
    {
     "data": {
      "text/plain": [
       "{'a': 10, 'b': 20, 'c': 30}"
      ]
     },
     "execution_count": 68,
     "metadata": {},
     "output_type": "execute_result"
    }
   ],
   "source": [
    "d = {'a':10, 'b':20, 'c':30}\n",
    "d"
   ]
  },
  {
   "cell_type": "code",
   "execution_count": 69,
   "id": "ee50c143",
   "metadata": {},
   "outputs": [
    {
     "data": {
      "text/plain": [
       "{'a', 'b', 'c'}"
      ]
     },
     "execution_count": 69,
     "metadata": {},
     "output_type": "execute_result"
    }
   ],
   "source": [
    "set(d) # dict -> set"
   ]
  },
  {
   "cell_type": "code",
   "execution_count": 70,
   "id": "25b1e6c7",
   "metadata": {},
   "outputs": [
    {
     "data": {
      "text/plain": [
       "['a', 'b', 'c']"
      ]
     },
     "execution_count": 70,
     "metadata": {},
     "output_type": "execute_result"
    }
   ],
   "source": [
    "list(d)"
   ]
  },
  {
   "cell_type": "code",
   "execution_count": 71,
   "id": "2024bde0",
   "metadata": {},
   "outputs": [
    {
     "data": {
      "text/plain": [
       "('a', 'b', 'c')"
      ]
     },
     "execution_count": 71,
     "metadata": {},
     "output_type": "execute_result"
    }
   ],
   "source": [
    "tuple(d)"
   ]
  },
  {
   "cell_type": "code",
   "execution_count": 72,
   "id": "23aecf2f",
   "metadata": {},
   "outputs": [
    {
     "data": {
      "text/plain": [
       "{'name': '홍길동', 'age': 20, 'address': '부산'}"
      ]
     },
     "execution_count": 72,
     "metadata": {},
     "output_type": "execute_result"
    }
   ],
   "source": [
    "# dict(key=value, key=value) dictionary를 쉽게 만들도록 도와주는 함수\n",
    "di = dict(name='홍길동',age=20,address='부산')\n",
    "d"
   ]
  },
  {
   "cell_type": "code",
   "execution_count": null,
   "id": "0a043077",
   "metadata": {},
   "outputs": [],
   "source": []
  },
  {
   "cell_type": "code",
   "execution_count": null,
   "id": "e2ab87c0",
   "metadata": {},
   "outputs": [],
   "source": []
  }
 ],
 "metadata": {
  "kernelspec": {
   "display_name": "Python 3 (ipykernel)",
   "language": "python",
   "name": "python3"
  },
  "language_info": {
   "codemirror_mode": {
    "name": "ipython",
    "version": 3
   },
   "file_extension": ".py",
   "mimetype": "text/x-python",
   "name": "python",
   "nbconvert_exporter": "python",
   "pygments_lexer": "ipython3",
   "version": "3.9.7"
  }
 },
 "nbformat": 4,
 "nbformat_minor": 5
}

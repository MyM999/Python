{
 "cells": [
  {
   "cell_type": "markdown",
   "id": "3681b0aa",
   "metadata": {},
   "source": [
    "# 클래스와 객체\n",
    "- 클래스(class)\n",
    "    - 사용자 정의 데이터타입.\n",
    "    - 특정 데이터에 맞게 정의한 dictionary개념(값을 key-value 쌍으로 관리)\n",
    "- 객체(instance)\n",
    "    - 클래스로 부터 생성된 값\n",
    "- Attribute, Instance 변수\n",
    "    - 객체를 구성하는 값으로 객체의 속성, 상태를 표현한다.\n",
    "    - 보통 initializer를 이용해 초기화 한다.\n",
    "- Instance method(메소드)\n",
    "    - 객체가 제공하는 기능으로 사용자 정의 데이터타입(class)의 연산자이다.\n",
    "    - 클래스 구현부에 정의한다."
   ]
  },
  {
   "cell_type": "code",
   "execution_count": 2,
   "id": "ab79eb21",
   "metadata": {},
   "outputs": [],
   "source": [
    "# Person이란 이름의 클래스(사용자정의 데이터타입)의 정의\n",
    "# class 이름 = 이름규칙 - 변수규칙과 동일\n",
    "\n",
    "class Person:\n",
    "    pass"
   ]
  },
  {
   "cell_type": "code",
   "execution_count": 3,
   "id": "a29f047f",
   "metadata": {},
   "outputs": [
    {
     "name": "stdout",
     "output_type": "stream",
     "text": [
      "<class '__main__.Person'>\n"
     ]
    }
   ],
   "source": [
    "# 객체(instance) 생성 -> 값을 생성\n",
    "p = Person()\n",
    "print(type(p))"
   ]
  },
  {
   "cell_type": "code",
   "execution_count": 4,
   "id": "86118caf",
   "metadata": {},
   "outputs": [],
   "source": [
    "# Person 객체에 속성을 추가/조회\n",
    "# 객체의 속성/메소드에 접근(호출) - `.` 표기법을 사용\n",
    "# p에 대입된 객체에 name 속성에 \"홍길동\" 을 대입\n",
    "# 초기화 - 처음 값을 대입\n",
    "p.name = \"이명호\"  #p의(.) 이름 은(=) \"홍길동\"   # 객체.변수 -  표기법: 속성명을 변수로 처리.\n",
    "p.age = 31\n",
    "p.address = '부천'"
   ]
  },
  {
   "cell_type": "code",
   "execution_count": 6,
   "id": "81a0952e",
   "metadata": {},
   "outputs": [
    {
     "name": "stdout",
     "output_type": "stream",
     "text": [
      "이름: 이명호\n",
      "나이: 31\n",
      "주소: 부천\n"
     ]
    }
   ],
   "source": [
    "print(\"이름:\", p.name)\n",
    "print(\"나이:\", p.age)\n",
    "print(\"주소:\", p.address)"
   ]
  },
  {
   "cell_type": "markdown",
   "id": "17670c65",
   "metadata": {},
   "source": [
    "## 클래스에 메소드 정의\n",
    "- 클래스에 객체의 [속성과관련된] 연산자(함수)를 추가하는 개념\n",
    "```python\n",
    "# 메소드 구문\n",
    "# 1개 이상의 매개변수를 정의. 첫번째 매개변수 이름은 관례적으로 self로 준다.  self 는 개체(instance)를 받는다.\n",
    "def 메소드이름(self, v1, v2,...): \n",
    "    구현\n",
    "```"
   ]
  },
  {
   "cell_type": "code",
   "execution_count": 7,
   "id": "e0a14898",
   "metadata": {},
   "outputs": [],
   "source": [
    "# class를 구현 -> instance를 처리하는 메소드들을 정의\n",
    "#              _> attribute: 메소드의 self를 이용해서 정의\n",
    "class Person2:\n",
    "    \n",
    "    # 사람의 속성값들을 모두 출력하는 메소드\n",
    "    def print_info(self):\n",
    "        info = f\"이름: {self.name}, 나이: {self.age}, 주소: {self.address}\"\n",
    "        print(info)\n",
    "        \n",
    "    # 나이에 특정 값을 더하는 메소드\n",
    "    def add_age(self, value):\n",
    "        self.age = self.age + value"
   ]
  },
  {
   "cell_type": "code",
   "execution_count": 10,
   "id": "cd828162",
   "metadata": {},
   "outputs": [
    {
     "name": "stdout",
     "output_type": "stream",
     "text": [
      "이명호, 31, 부천\n"
     ]
    }
   ],
   "source": [
    "def print_person2_info(p):\n",
    "    print(f\"{p.name}, {p.age}, {p.address}\")\n",
    "print_person2_info(p)"
   ]
  },
  {
   "cell_type": "code",
   "execution_count": 12,
   "id": "cb8ae52e",
   "metadata": {},
   "outputs": [],
   "source": [
    "p2 = Person2()\n",
    "p2.name = \"유재석\"\n",
    "p2.age = 41\n",
    "p2.address = \"서울\""
   ]
  },
  {
   "cell_type": "code",
   "execution_count": 13,
   "id": "90aea4f6",
   "metadata": {},
   "outputs": [
    {
     "name": "stdout",
     "output_type": "stream",
     "text": [
      "이름: 유재석, 나이: 41, 주소: 서울\n"
     ]
    }
   ],
   "source": [
    "p2.print_info()"
   ]
  },
  {
   "cell_type": "code",
   "execution_count": 14,
   "id": "603de513",
   "metadata": {},
   "outputs": [
    {
     "name": "stdout",
     "output_type": "stream",
     "text": [
      "이름: 유재석, 나이: 41, 주소: 부산\n"
     ]
    }
   ],
   "source": [
    "p2.address=\"부산\"\n",
    "p2.print_info()"
   ]
  },
  {
   "cell_type": "code",
   "execution_count": 18,
   "id": "59a92be7",
   "metadata": {},
   "outputs": [
    {
     "name": "stdout",
     "output_type": "stream",
     "text": [
      "이름: 유재석, 나이: 72, 주소: 부산\n"
     ]
    }
   ],
   "source": [
    "p2.add_age(31)\n",
    "p2.print_info()"
   ]
  },
  {
   "cell_type": "markdown",
   "id": "89946577",
   "metadata": {},
   "source": [
    "## Initializer 메소드 (Constructor-생성자)\n",
    "- 객체 생성하는 시점에 속성값들을 초기화 하도록 강제하는 메소드\n",
    "    - **객체(instance)를 구성하는 Attribute들을 정의, 초기화 하는 역할** \n",
    "        - 객체를 생성하는 곳으로 부터 argument로 반드시 받아야 하는 것은 기본값 없는 매개변수로 선언한다.\n",
    "        - 객체를 생성하는 곳에서 값을 줄수도 안줄 수도 있는 경우 기본값 있는 매개변수로 선언한다.\n",
    "    - 객체 생성후 메소드들이 호출 되기 전에 반드시 생성되야 하는 attribute들을 객체에 설정하는 역할을 한다. => 문법\n",
    "    - Default 속성들 설정해주는 메소드.\n",
    "- 객체 생성시 호출되는 메소드\n",
    "    - self로 생성되는 객체를 받는다."
   ]
  },
  {
   "cell_type": "code",
   "execution_count": 20,
   "id": "576731c8",
   "metadata": {},
   "outputs": [],
   "source": [
    "class test:\n",
    "    def __init__(self, var5=None):\n",
    "        print('test의 __init__() 실행')\n",
    "        self.var1 = \"변수1\"\n",
    "        self.var2 = \"변수2\"\n",
    "        self.var3 = True\n",
    "        self.var4 = 10000\n",
    "        self.var5 = var5"
   ]
  },
  {
   "cell_type": "code",
   "execution_count": 21,
   "id": "fdf68a1d",
   "metadata": {},
   "outputs": [
    {
     "name": "stdout",
     "output_type": "stream",
     "text": [
      "test의 __init__() 실행\n"
     ]
    }
   ],
   "source": [
    "t = test()"
   ]
  },
  {
   "cell_type": "code",
   "execution_count": 22,
   "id": "f8331a88",
   "metadata": {},
   "outputs": [
    {
     "name": "stdout",
     "output_type": "stream",
     "text": [
      "변수1 변수2 True 10000 None\n"
     ]
    }
   ],
   "source": [
    "print(t.var1, t.var2, t.var3, t.var4, t.var5)"
   ]
  },
  {
   "cell_type": "code",
   "execution_count": 23,
   "id": "0a4d33f6",
   "metadata": {},
   "outputs": [
    {
     "name": "stdout",
     "output_type": "stream",
     "text": [
      "test의 __init__() 실행\n"
     ]
    }
   ],
   "source": [
    "t1 = test(200)"
   ]
  },
  {
   "cell_type": "code",
   "execution_count": 24,
   "id": "ee0e3e6a",
   "metadata": {},
   "outputs": [
    {
     "name": "stdout",
     "output_type": "stream",
     "text": [
      "변수1 변수2 True 10000 200\n"
     ]
    }
   ],
   "source": [
    "print(t1.var1, t1.var2, t1.var3, t1.var4, t1.var5)"
   ]
  },
  {
   "cell_type": "code",
   "execution_count": 27,
   "id": "6e45e7a1",
   "metadata": {},
   "outputs": [],
   "source": [
    "class Person3:\n",
    "    def __init__(self, name, age, address=None, email=None, tel=None):\n",
    "        self.name = name\n",
    "        self.age = age\n",
    "        self.address = address\n",
    "        self.email = email\n",
    "        self.tel = tel\n",
    "    def print_info(self):\n",
    "        info = f\"이름: {self.name}, 나이: {self.age}, 주소: {self.address}, 이메일: {self.email}, 전화번호: {self.tel}\"\n",
    "        print(info)\n",
    "    def add_age(self, value):\n",
    "        self.age = self.age + value"
   ]
  },
  {
   "cell_type": "code",
   "execution_count": 28,
   "id": "f53eb9ef",
   "metadata": {},
   "outputs": [
    {
     "name": "stdout",
     "output_type": "stream",
     "text": [
      "이름: 이명호, 나이: 31, 주소: None, 이메일: None, 전화번호: None\n",
      "이름: 이명호, 나이: 34, 주소: None, 이메일: None, 전화번호: None\n"
     ]
    }
   ],
   "source": [
    "p = Person3(\"이명호\",31)\n",
    "p.print_info()\n",
    "p.add_age(3)\n",
    "p.print_info()\n"
   ]
  },
  {
   "cell_type": "code",
   "execution_count": 29,
   "id": "b1ec2047",
   "metadata": {},
   "outputs": [
    {
     "name": "stdout",
     "output_type": "stream",
     "text": [
      "이름: 박명수, 나이: 49, 주소: 서울, 이메일: None, 전화번호: None\n"
     ]
    }
   ],
   "source": [
    "p2 = Person3(\"박명수\",49,\"서울\")\n",
    "p2.print_info()"
   ]
  },
  {
   "cell_type": "code",
   "execution_count": 30,
   "id": "9399f310",
   "metadata": {},
   "outputs": [
    {
     "name": "stdout",
     "output_type": "stream",
     "text": [
      "이름: 노홍철, 나이: 31, 주소: 인천, 이메일: None, 전화번호: None\n"
     ]
    }
   ],
   "source": [
    "p3 = Person3(name='노홍철', age=31, address='인천') \n",
    "p3.print_info()"
   ]
  },
  {
   "cell_type": "code",
   "execution_count": 31,
   "id": "dbac4252",
   "metadata": {},
   "outputs": [],
   "source": [
    "p3.email = \"mbc@naver.com\"\n",
    "p3.tel = '010-2222-3333'"
   ]
  },
  {
   "cell_type": "code",
   "execution_count": 32,
   "id": "818b8fe1",
   "metadata": {},
   "outputs": [
    {
     "name": "stdout",
     "output_type": "stream",
     "text": [
      "이름: 노홍철, 나이: 31, 주소: 인천, 이메일: mbc@naver.com, 전화번호: 010-2222-3333\n"
     ]
    }
   ],
   "source": [
    "p3.print_info()"
   ]
  },
  {
   "cell_type": "code",
   "execution_count": 33,
   "id": "87700434",
   "metadata": {},
   "outputs": [
    {
     "data": {
      "text/plain": [
       "type"
      ]
     },
     "execution_count": 33,
     "metadata": {},
     "output_type": "execute_result"
    }
   ],
   "source": [
    "type(Person3) "
   ]
  },
  {
   "cell_type": "code",
   "execution_count": 34,
   "id": "8741a61f",
   "metadata": {},
   "outputs": [
    {
     "data": {
      "text/plain": [
       "{'name': '노홍철',\n",
       " 'age': 31,\n",
       " 'address': '인천',\n",
       " 'email': 'mbc@naver.com',\n",
       " 'tel': '010-2222-3333'}"
      ]
     },
     "execution_count": 34,
     "metadata": {},
     "output_type": "execute_result"
    }
   ],
   "source": [
    "p3.__dict__"
   ]
  },
  {
   "cell_type": "markdown",
   "id": "a84c4925",
   "metadata": {},
   "source": [
    "## 정보 은닉 (Information Hiding)\n",
    "- Attribute에 아무값이나 대입하지 못하게 하고 어떤 규칙을 설정하고 싶을 때 적용.\n",
    "1. Attribute에 접근하는 것을 막는다.\n",
    "    - Attribute이름 앞에 __ (double underscore) 를 붙인다. **뒤에는 붙이면 절대안됨**\n",
    "        - 내부적으로 변수의 이름을 `_클래스이름__속성명` 으로 변환해서 객체에 저장. (메소드에서 self.\\_\\_변수 로 설정한 경우)\n",
    "2. Attribute의 값을 변경하는 메소드(여기에 변경규칙을 넣는다.) - setter        \n",
    "   Attribute의 값을 반환하는 메소드 - getter    \n",
    "   를 제공한다."
   ]
  },
  {
   "cell_type": "code",
   "execution_count": 36,
   "id": "074c02ef",
   "metadata": {},
   "outputs": [],
   "source": [
    "class Person4:\n",
    "    \n",
    "    def __init__(self, age):\n",
    "        if age >= 0:\n",
    "            self.__age = age\n",
    "        else:\n",
    "            self.__age = None\n",
    "    def set_age(self,age):\n",
    "        if age >= 0:\n",
    "            self.__age = age\n",
    "    def get_age(self):\n",
    "        return self.__age"
   ]
  },
  {
   "cell_type": "code",
   "execution_count": 37,
   "id": "56d8ab27",
   "metadata": {},
   "outputs": [],
   "source": [
    "p = Person4(20)"
   ]
  },
  {
   "cell_type": "code",
   "execution_count": 38,
   "id": "d14a4ea0",
   "metadata": {},
   "outputs": [
    {
     "data": {
      "text/plain": [
       "{'_Person4__age': 20}"
      ]
     },
     "execution_count": 38,
     "metadata": {},
     "output_type": "execute_result"
    }
   ],
   "source": [
    "p.__dict__"
   ]
  },
  {
   "cell_type": "code",
   "execution_count": 39,
   "id": "e3cfd82a",
   "metadata": {},
   "outputs": [
    {
     "data": {
      "text/plain": [
       "{'_Person4__age': 30}"
      ]
     },
     "execution_count": 39,
     "metadata": {},
     "output_type": "execute_result"
    }
   ],
   "source": [
    "p.set_age(30)\n",
    "p.__dict__"
   ]
  },
  {
   "cell_type": "code",
   "execution_count": 40,
   "id": "78ee0405",
   "metadata": {},
   "outputs": [
    {
     "data": {
      "text/plain": [
       "{'_Person4__age': 40}"
      ]
     },
     "execution_count": 40,
     "metadata": {},
     "output_type": "execute_result"
    }
   ],
   "source": [
    "p.set_age(40)\n",
    "p.__dict__"
   ]
  },
  {
   "cell_type": "code",
   "execution_count": 41,
   "id": "3e937390",
   "metadata": {},
   "outputs": [
    {
     "name": "stdout",
     "output_type": "stream",
     "text": [
      "40\n"
     ]
    }
   ],
   "source": [
    "print(p.get_age())"
   ]
  },
  {
   "cell_type": "markdown",
   "id": "e8600cc0",
   "metadata": {},
   "source": [
    "#### setter, getter 메소드를 변수처럼 호출할 수 있도록 처리.\n",
    "1. property() 함수를 이용\n",
    "2. property  decorator를 이용"
   ]
  },
  {
   "cell_type": "code",
   "execution_count": 44,
   "id": "83e89378",
   "metadata": {},
   "outputs": [],
   "source": [
    "class Person5:\n",
    "    def __init__(self, name, age):\n",
    "        if name:\n",
    "            self.__name = name\n",
    "        if age >= 0:\n",
    "            self.__age = age\n",
    "    def set_name(self, name):\n",
    "        if name:\n",
    "            self.__name = name\n",
    "    def get_name(self):\n",
    "        return self.__name\n",
    "    \n",
    "    def set_age(self,age):\n",
    "        if age>=0:\n",
    "            self.__age = age\n",
    "            \n",
    "    def get_age(self):\n",
    "        return self.__age\n",
    "    \n",
    "    name = property(get_name, set_name)\n",
    "    age = property(get_age, set_age)"
   ]
  },
  {
   "cell_type": "code",
   "execution_count": 45,
   "id": "e4f77267",
   "metadata": {},
   "outputs": [
    {
     "data": {
      "text/plain": [
       "{'_Person5__name': '정형돈', '_Person5__age': 41}"
      ]
     },
     "execution_count": 45,
     "metadata": {},
     "output_type": "execute_result"
    }
   ],
   "source": [
    "p = Person5('정형돈',41)\n",
    "p.__dict__"
   ]
  },
  {
   "cell_type": "code",
   "execution_count": 46,
   "id": "b662cd11",
   "metadata": {},
   "outputs": [
    {
     "data": {
      "text/plain": [
       "{'_Person5__name': '정형돈', '_Person5__age': 41}"
      ]
     },
     "execution_count": 46,
     "metadata": {},
     "output_type": "execute_result"
    }
   ],
   "source": [
    "p.name = None\n",
    "p.__dict__"
   ]
  },
  {
   "cell_type": "code",
   "execution_count": 47,
   "id": "a6554355",
   "metadata": {},
   "outputs": [],
   "source": [
    "class Person6:\n",
    "    def __init__(self,name, age):\n",
    "        if name:\n",
    "            self.__name = name\n",
    "        if age >= 0:\n",
    "            self.__age = age\n",
    "    @property\n",
    "    def name(self):\n",
    "        return self.__name\n",
    "    \n",
    "    @name.setter\n",
    "    def name(self,name):\n",
    "        if name:\n",
    "            self.__name = name\n",
    "    @property\n",
    "    def age(self):\n",
    "        return self.__age\n",
    "    \n",
    "    @age.setter\n",
    "    def age(self,age):\n",
    "        \n",
    "        if age >= 0:\n",
    "            self.__age = age"
   ]
  },
  {
   "cell_type": "code",
   "execution_count": 48,
   "id": "4d8dc34b",
   "metadata": {},
   "outputs": [
    {
     "data": {
      "text/plain": [
       "{'_Person6__name': '이명호', '_Person6__age': 20}"
      ]
     },
     "execution_count": 48,
     "metadata": {},
     "output_type": "execute_result"
    }
   ],
   "source": [
    "p = Person6('이명호',20)\n",
    "p.__dict__"
   ]
  },
  {
   "cell_type": "code",
   "execution_count": 53,
   "id": "a9c00dc5",
   "metadata": {},
   "outputs": [
    {
     "data": {
      "text/plain": [
       "{'_Person6__name': '이명호', '_Person6__age': 0}"
      ]
     },
     "execution_count": 53,
     "metadata": {},
     "output_type": "execute_result"
    }
   ],
   "source": [
    "p.name = None\n",
    "p.age = -3\n",
    "p.__dict__"
   ]
  },
  {
   "cell_type": "code",
   "execution_count": 54,
   "id": "7df3e727",
   "metadata": {},
   "outputs": [
    {
     "name": "stdout",
     "output_type": "stream",
     "text": [
      "<class 'list'> <class '__main__.Person6'> <class 'int'> <class 'str'> <class 'bool'>\n"
     ]
    }
   ],
   "source": [
    "l = [3, 2, 63, 2]\n",
    "i = 10\n",
    "s = 'abc'\n",
    "print(type(l), type(p), type(i), type(s), type(False))"
   ]
  },
  {
   "cell_type": "markdown",
   "id": "f2903c4a",
   "metadata": {},
   "source": [
    "# 상속(InherItance)"
   ]
  },
  {
   "cell_type": "code",
   "execution_count": 62,
   "id": "c075c1a6",
   "metadata": {},
   "outputs": [],
   "source": [
    "class Computer:\n",
    "    def get(self):\n",
    "        print('새로운 컴퓨터를 샀다')"
   ]
  },
  {
   "cell_type": "code",
   "execution_count": 63,
   "id": "ece7cac8",
   "metadata": {},
   "outputs": [],
   "source": [
    "class monitor(computer):\n",
    "    def buy(self):\n",
    "        print('모니터를샀다')"
   ]
  },
  {
   "cell_type": "code",
   "execution_count": 65,
   "id": "c15ea965",
   "metadata": {},
   "outputs": [
    {
     "name": "stdout",
     "output_type": "stream",
     "text": [
      "새로운 컴퓨터를 샀다\n"
     ]
    }
   ],
   "source": [
    "p = Computer()\n",
    "p.get()"
   ]
  },
  {
   "cell_type": "code",
   "execution_count": 66,
   "id": "ae075d19",
   "metadata": {},
   "outputs": [
    {
     "name": "stdout",
     "output_type": "stream",
     "text": [
      "새로운 컴퓨터를 샀다\n",
      "모니터를샀다\n"
     ]
    }
   ],
   "source": [
    "s = monitor()\n",
    "s.get()\n",
    "s.buy()"
   ]
  },
  {
   "cell_type": "code",
   "execution_count": 76,
   "id": "574510ee",
   "metadata": {},
   "outputs": [],
   "source": [
    "class Person7:\n",
    "    \n",
    "    def __init__(self,name):\n",
    "        self.name = name\n",
    "    def eat(self):\n",
    "        print(f'{self.name}가 저녁을 먹는다.')\n",
    "    \n",
    "    \n",
    "    def get_info(self):\n",
    "        return f\"이름: {self.name}\""
   ]
  },
  {
   "cell_type": "code",
   "execution_count": 77,
   "id": "ec0939e9",
   "metadata": {},
   "outputs": [],
   "source": [
    "class Student(Person7):\n",
    "    def __init__(self,name,subject):\n",
    "        super().__init__(name)\n",
    "        self.subject = subject\n",
    "    def study(self):\n",
    "        print(f'{self.subject}과목을 수강했다.')\n",
    "    def get_info(self):\n",
    "        super().get_info\n",
    "        return f\"{v}, 과목: {self.subject}\""
   ]
  },
  {
   "cell_type": "code",
   "execution_count": 78,
   "id": "45ffd156",
   "metadata": {},
   "outputs": [],
   "source": [
    "class Teacher(Person7):\n",
    "    \n",
    "    def __init__(self,name,job):\n",
    "        super().__init__(name)\n",
    "        self.job = job\n",
    "        \n",
    "    def get_info(self):\n",
    "        \n",
    "        return f\"이름: {self.name}, 과목: {self.job}\""
   ]
  },
  {
   "cell_type": "code",
   "execution_count": 79,
   "id": "79d45915",
   "metadata": {},
   "outputs": [
    {
     "name": "stdout",
     "output_type": "stream",
     "text": [
      "파이썬과목을 수강했다.\n"
     ]
    }
   ],
   "source": [
    "s2 = Student(\"이명호\",\"파이썬\")\n",
    "s2.study()"
   ]
  },
  {
   "cell_type": "code",
   "execution_count": 80,
   "id": "b2b1472c",
   "metadata": {},
   "outputs": [
    {
     "name": "stdout",
     "output_type": "stream",
     "text": [
      "이명호가 저녁을 먹는다.\n"
     ]
    }
   ],
   "source": [
    "s2.eat()"
   ]
  },
  {
   "cell_type": "code",
   "execution_count": 86,
   "id": "63f55983",
   "metadata": {},
   "outputs": [
    {
     "name": "stdout",
     "output_type": "stream",
     "text": [
      "이름: 박성생, 과목: 교무주임\n"
     ]
    }
   ],
   "source": [
    "t = Teacher('박성생','교무주임')\n",
    "v3 = t.get_info()\n",
    "print(v3)"
   ]
  },
  {
   "cell_type": "code",
   "execution_count": 87,
   "id": "0aef2adf",
   "metadata": {},
   "outputs": [
    {
     "name": "stdout",
     "output_type": "stream",
     "text": [
      "박성생가 저녁을 먹는다.\n",
      "이명호가 저녁을 먹는다.\n"
     ]
    }
   ],
   "source": [
    "t.eat()\n",
    "s2.eat()"
   ]
  },
  {
   "cell_type": "code",
   "execution_count": 88,
   "id": "f0652814",
   "metadata": {},
   "outputs": [],
   "source": [
    "class Test:\n",
    "    def __init__(self, num):\n",
    "        self.num = num\n",
    "        \n",
    "    def  __call__(self, cnt):\n",
    "        print(self.num + cnt)\n",
    "        return self.num * cnt\n",
    "    def __str__(self):\n",
    "        return f\"num: {self.num}\"\n",
    "    def __repr__(self):\n",
    "        return \"Test\""
   ]
  },
  {
   "cell_type": "code",
   "execution_count": 89,
   "id": "248a9c5e",
   "metadata": {},
   "outputs": [
    {
     "name": "stdout",
     "output_type": "stream",
     "text": [
      "30\n"
     ]
    }
   ],
   "source": [
    "test = Test(10)\n",
    "test2 = test(20)"
   ]
  },
  {
   "cell_type": "code",
   "execution_count": 90,
   "id": "249df94d",
   "metadata": {},
   "outputs": [
    {
     "data": {
      "text/plain": [
       "('num: 10', '200')"
      ]
     },
     "execution_count": 90,
     "metadata": {},
     "output_type": "execute_result"
    }
   ],
   "source": [
    "str(test), str(test2)"
   ]
  },
  {
   "cell_type": "code",
   "execution_count": 91,
   "id": "a9359198",
   "metadata": {},
   "outputs": [],
   "source": [
    "class Person:\n",
    "    def __init__(self, name, age):\n",
    "        self.name = name\n",
    "        self.age = age\n",
    "    def __gt__(self, obj):\n",
    "        result = False\n",
    "        if isinstance(obj, Person): # obj가 Person 타입?\n",
    "            result = self.age > obj.age\n",
    "        elif isinstance(obj, int):\n",
    "            result = self.age > obj\n",
    "        return result"
   ]
  },
  {
   "cell_type": "code",
   "execution_count": 92,
   "id": "11b74814",
   "metadata": {},
   "outputs": [
    {
     "data": {
      "text/plain": [
       "True"
      ]
     },
     "execution_count": 92,
     "metadata": {},
     "output_type": "execute_result"
    }
   ],
   "source": [
    "p1 = Person('홍길동',20)\n",
    "p2 = Person('이순신',15)\n",
    "p1 > p2"
   ]
  },
  {
   "cell_type": "code",
   "execution_count": null,
   "id": "f2b973e6",
   "metadata": {},
   "outputs": [],
   "source": []
  }
 ],
 "metadata": {
  "kernelspec": {
   "display_name": "Python 3 (ipykernel)",
   "language": "python",
   "name": "python3"
  },
  "language_info": {
   "codemirror_mode": {
    "name": "ipython",
    "version": 3
   },
   "file_extension": ".py",
   "mimetype": "text/x-python",
   "name": "python",
   "nbconvert_exporter": "python",
   "pygments_lexer": "ipython3",
   "version": "3.9.7"
  }
 },
 "nbformat": 4,
 "nbformat_minor": 5
}

{
 "cells": [
  {
   "cell_type": "code",
   "execution_count": 1,
   "id": "a3148495",
   "metadata": {},
   "outputs": [],
   "source": [
    "age1 = age2 = age3 =0"
   ]
  },
  {
   "cell_type": "code",
   "execution_count": 52,
   "id": "c352026b",
   "metadata": {},
   "outputs": [
    {
     "name": "stdout",
     "output_type": "stream",
     "text": [
      "10 20 30\n"
     ]
    }
   ],
   "source": [
    "print(age1, agw2, age3)"
   ]
  },
  {
   "cell_type": "code",
   "execution_count": 3,
   "id": "c40aa4c3",
   "metadata": {},
   "outputs": [
    {
     "name": "stdout",
     "output_type": "stream",
     "text": [
      "0 0 0\n"
     ]
    }
   ],
   "source": [
    "print(age1, age2, age3)"
   ]
  },
  {
   "cell_type": "code",
   "execution_count": 4,
   "id": "5d05b498",
   "metadata": {},
   "outputs": [
    {
     "name": "stdout",
     "output_type": "stream",
     "text": [
      "30\n",
      "스무살\n",
      "25.7\n"
     ]
    }
   ],
   "source": [
    "age = 30 #정수 대입\n",
    "print(age)\n",
    "age = '스무살' #문자열 대입\n",
    "print(age)\n",
    "age = 25.7\n",
    "print(age) #실수"
   ]
  },
  {
   "cell_type": "code",
   "execution_count": 5,
   "id": "b6530830",
   "metadata": {},
   "outputs": [
    {
     "ename": "SyntaxError",
     "evalue": "invalid syntax (Temp/ipykernel_22108/4068215093.py, line 2)",
     "output_type": "error",
     "traceback": [
      "\u001b[1;36m  File \u001b[1;32m\"C:\\Users\\mymym\\AppData\\Local\\Temp/ipykernel_22108/4068215093.py\"\u001b[1;36m, line \u001b[1;32m2\u001b[0m\n\u001b[1;33m    int age = 20\u001b[0m\n\u001b[1;37m        ^\u001b[0m\n\u001b[1;31mSyntaxError\u001b[0m\u001b[1;31m:\u001b[0m invalid syntax\n"
     ]
    }
   ],
   "source": [
    "#정적타입언어 => 변수에 타입을 고정해서 같은 타입의 값들만 저장.\n",
    "int age = 20\n",
    "age = 40\n",
    "age = 50\n",
    "age = '슴살' #에러"
   ]
  },
  {
   "cell_type": "code",
   "execution_count": 6,
   "id": "3bd1a646",
   "metadata": {},
   "outputs": [
    {
     "data": {
      "text/plain": [
       "(float, int)"
      ]
     },
     "execution_count": 6,
     "metadata": {},
     "output_type": "execute_result"
    }
   ],
   "source": [
    "# 값,변수의 타입을 확인하는 함수 - type(값)\n",
    "type(age), type(20)"
   ]
  },
  {
   "cell_type": "code",
   "execution_count": 7,
   "id": "8bd1a511",
   "metadata": {},
   "outputs": [
    {
     "data": {
      "text/plain": [
       "int"
      ]
     },
     "execution_count": 7,
     "metadata": {},
     "output_type": "execute_result"
    }
   ],
   "source": [
    "age = 30\n",
    "type(age)"
   ]
  },
  {
   "cell_type": "code",
   "execution_count": 8,
   "id": "1c6be496",
   "metadata": {},
   "outputs": [
    {
     "data": {
      "text/plain": [
       "float"
      ]
     },
     "execution_count": 8,
     "metadata": {},
     "output_type": "execute_result"
    }
   ],
   "source": [
    "tall = 178.9\n",
    "type(tall)"
   ]
  },
  {
   "cell_type": "code",
   "execution_count": 9,
   "id": "af4f9a36",
   "metadata": {},
   "outputs": [],
   "source": [
    "# 데이터 타입\n",
    "# 숫자형"
   ]
  },
  {
   "cell_type": "code",
   "execution_count": 10,
   "id": "71d2349d",
   "metadata": {},
   "outputs": [
    {
     "name": "stdout",
     "output_type": "stream",
     "text": [
      "0.5 356.7\n"
     ]
    }
   ],
   "source": [
    "f1 = 0.5\n",
    "f2 = 356.7\n",
    "print(f1,f2)"
   ]
  },
  {
   "cell_type": "code",
   "execution_count": 11,
   "id": "ec5068aa",
   "metadata": {},
   "outputs": [
    {
     "name": "stdout",
     "output_type": "stream",
     "text": [
      "0.5\n"
     ]
    }
   ],
   "source": [
    "f3 = .5 #정수부가 0일 경우 0은 생략가능\n",
    "print(f3)"
   ]
  },
  {
   "cell_type": "code",
   "execution_count": 12,
   "id": "78a1f8f5",
   "metadata": {},
   "outputs": [
    {
     "name": "stdout",
     "output_type": "stream",
     "text": [
      "30000000000.0\n"
     ]
    }
   ],
   "source": [
    "# 지수표기법\n",
    "f4 = 3e10 # 3 X 10**10\n",
    "print(f4)"
   ]
  },
  {
   "cell_type": "code",
   "execution_count": 13,
   "id": "b350c111",
   "metadata": {},
   "outputs": [
    {
     "name": "stdout",
     "output_type": "stream",
     "text": [
      "324600000.0 <class 'float'>\n"
     ]
    }
   ],
   "source": [
    "f5 = 3246e5 #float=실수형\n",
    "print(f5, type(f5))"
   ]
  },
  {
   "cell_type": "code",
   "execution_count": 14,
   "id": "761eb0b8",
   "metadata": {},
   "outputs": [
    {
     "name": "stdout",
     "output_type": "stream",
     "text": [
      "0.003\n"
     ]
    }
   ],
   "source": [
    "f6 = 3e-3 # 3 X 10**-3\n",
    "print(f6)"
   ]
  },
  {
   "cell_type": "code",
   "execution_count": 15,
   "id": "7050847c",
   "metadata": {},
   "outputs": [
    {
     "data": {
      "text/plain": [
       "(int, float)"
      ]
     },
     "execution_count": 15,
     "metadata": {},
     "output_type": "execute_result"
    }
   ],
   "source": [
    " type(10), type(3.2) #int-정수타입"
   ]
  },
  {
   "cell_type": "code",
   "execution_count": 16,
   "id": "45b05c9c",
   "metadata": {},
   "outputs": [
    {
     "name": "stdout",
     "output_type": "stream",
     "text": [
      "243\n"
     ]
    }
   ],
   "source": [
    "print(3**5)"
   ]
  },
  {
   "cell_type": "code",
   "execution_count": 17,
   "id": "39301289",
   "metadata": {},
   "outputs": [
    {
     "name": "stdout",
     "output_type": "stream",
     "text": [
      "3.3333333333333335\n"
     ]
    }
   ],
   "source": [
    "print(10/3) #나누기"
   ]
  },
  {
   "cell_type": "code",
   "execution_count": 18,
   "id": "61813dab",
   "metadata": {},
   "outputs": [
    {
     "name": "stdout",
     "output_type": "stream",
     "text": [
      "3\n",
      "1\n"
     ]
    }
   ],
   "source": [
    "print(10 // 3) # 몫\n",
    "print(10 % 3) # 나머지"
   ]
  },
  {
   "cell_type": "code",
   "execution_count": 19,
   "id": "e37b608e",
   "metadata": {},
   "outputs": [
    {
     "name": "stdout",
     "output_type": "stream",
     "text": [
      "1\n"
     ]
    }
   ],
   "source": [
    "num = 1001\n",
    "#  num이 5의 배수?\n",
    "print(num % 5) # 결과가 0이면 5의 배수"
   ]
  },
  {
   "cell_type": "code",
   "execution_count": 20,
   "id": "e4773d53",
   "metadata": {},
   "outputs": [
    {
     "name": "stdout",
     "output_type": "stream",
     "text": [
      "True False\n"
     ]
    }
   ],
   "source": [
    "# 논리형 \n",
    "b1 = True\n",
    "b2 = False\n",
    "print (b1, b2)"
   ]
  },
  {
   "cell_type": "code",
   "execution_count": 25,
   "id": "8b30e536",
   "metadata": {},
   "outputs": [
    {
     "name": "stdout",
     "output_type": "stream",
     "text": [
      "False True True\n",
      "False False True True\n",
      "None\n"
     ]
    }
   ],
   "source": [
    "# control+ /\n",
    "# bool(값) 다른 타입의 값을 논리형으로 변환\n",
    "# 빈문자열, 0, None => False\n",
    "print(bool(''), bool('abc') , bool(' '))\n",
    "print(bool(0), bool(0.0), bool(50), bool(-50))\n",
    "print(None)"
   ]
  },
  {
   "cell_type": "code",
   "execution_count": 28,
   "id": "eee617d7",
   "metadata": {},
   "outputs": [
    {
     "name": "stdout",
     "output_type": "stream",
     "text": [
      "False\n",
      "True\n",
      "True\n",
      "False\n",
      "True\n",
      "False\n"
     ]
    }
   ],
   "source": [
    "# 비교연산자\n",
    "print(5 == 10)\n",
    "print(10 == 10)\n",
    "print(5 !=10)\n",
    "print(10 != 10)\n",
    "print('abc' == 'abc')\n",
    "print('abc' == 'bcb')"
   ]
  },
  {
   "cell_type": "code",
   "execution_count": 31,
   "id": "4e409fe5",
   "metadata": {},
   "outputs": [
    {
     "name": "stdout",
     "output_type": "stream",
     "text": [
      "True\n",
      "False\n",
      "True\n"
     ]
    }
   ],
   "source": [
    "print(10>5)\n",
    "print(10<5)\n",
    "print(10>=10)"
   ]
  },
  {
   "cell_type": "code",
   "execution_count": 33,
   "id": "4fe620f7",
   "metadata": {},
   "outputs": [
    {
     "name": "stdout",
     "output_type": "stream",
     "text": [
      "False\n",
      "97 98\n"
     ]
    }
   ],
   "source": [
    "print('a' >'b')\n",
    "print(ord('a'), ord('b'))"
   ]
  },
  {
   "cell_type": "code",
   "execution_count": 34,
   "id": "03d3e0e2",
   "metadata": {},
   "outputs": [
    {
     "name": "stdout",
     "output_type": "stream",
     "text": [
      "35 48 65 97 44032\n"
     ]
    }
   ],
   "source": [
    "#특수문자 숫자 영문자 한글\n",
    "print(ord('#'), ord('0'), ord('A'), ord('a'), ord('가'))"
   ]
  },
  {
   "cell_type": "code",
   "execution_count": 37,
   "id": "681ea6db",
   "metadata": {},
   "outputs": [
    {
     "name": "stdout",
     "output_type": "stream",
     "text": [
      "False\n"
     ]
    }
   ],
   "source": [
    "num = 30\n",
    "# num이 5 ~ 20 사이의 숫자인가?\n",
    "result = num > 5 and num < 20 # result = (num>5) & (num<20)\n",
    "print(result)\n",
    "\n"
   ]
  },
  {
   "cell_type": "code",
   "execution_count": 40,
   "id": "6572b6b9",
   "metadata": {},
   "outputs": [
    {
     "name": "stdout",
     "output_type": "stream",
     "text": [
      "True\n",
      "False\n"
     ]
    }
   ],
   "source": [
    "# num이 5 ~ 20 사이 밖의 숫자인가?\n",
    "num = 30\n",
    "result = num<5 or num>20 # result = (num <5) | (num >20)\n",
    "print(result)\n",
    "print(not result) # 반대의 값"
   ]
  },
  {
   "cell_type": "code",
   "execution_count": 41,
   "id": "386992f4",
   "metadata": {},
   "outputs": [
    {
     "data": {
      "text/plain": [
       "True"
      ]
     },
     "execution_count": 41,
     "metadata": {},
     "output_type": "execute_result"
    }
   ],
   "source": [
    "not (5 > 10)"
   ]
  },
  {
   "cell_type": "code",
   "execution_count": 42,
   "id": "b2a31d79",
   "metadata": {},
   "outputs": [
    {
     "data": {
      "text/plain": [
       "True"
      ]
     },
     "execution_count": 42,
     "metadata": {},
     "output_type": "execute_result"
    }
   ],
   "source": [
    "5 <= 10"
   ]
  },
  {
   "cell_type": "code",
   "execution_count": 43,
   "id": "fb84c6f5",
   "metadata": {},
   "outputs": [
    {
     "data": {
      "text/plain": [
       "True"
      ]
     },
     "execution_count": 43,
     "metadata": {},
     "output_type": "execute_result"
    }
   ],
   "source": [
    "True ^ False"
   ]
  },
  {
   "cell_type": "code",
   "execution_count": 44,
   "id": "cea324c6",
   "metadata": {},
   "outputs": [
    {
     "data": {
      "text/plain": [
       "False"
      ]
     },
     "execution_count": 44,
     "metadata": {},
     "output_type": "execute_result"
    }
   ],
   "source": [
    "True ^ True"
   ]
  },
  {
   "cell_type": "code",
   "execution_count": 45,
   "id": "dc757e16",
   "metadata": {},
   "outputs": [
    {
     "name": "stdout",
     "output_type": "stream",
     "text": [
      "양수\n"
     ]
    }
   ],
   "source": [
    "# 조건연산자\n",
    "num = 10 # num = -10\n",
    "var = '양수' if num >= 0 else '음수'\n",
    "print(var)"
   ]
  },
  {
   "cell_type": "code",
   "execution_count": 46,
   "id": "c580cbd5",
   "metadata": {},
   "outputs": [],
   "source": [
    "# 문자열"
   ]
  },
  {
   "cell_type": "code",
   "execution_count": 47,
   "id": "b1288766",
   "metadata": {},
   "outputs": [
    {
     "name": "stdout",
     "output_type": "stream",
     "text": [
      "abc\bc\n",
      "abc\n",
      "def\\dfdf\n",
      "abc\n",
      "def\n",
      "hgi\n",
      "abc\\def\n"
     ]
    }
   ],
   "source": [
    "# escape e문자\n",
    "print('abc\\bc')\n",
    "print('abc\\ndef\\dfdf')\n",
    "print('''abc\n",
    "def\n",
    "hgi''')\n",
    "print('abc\\def')"
   ]
  },
  {
   "cell_type": "code",
   "execution_count": 48,
   "id": "d5aff921",
   "metadata": {},
   "outputs": [
    {
     "name": "stdout",
     "output_type": "stream",
     "text": [
      "a\\a\\a\n"
     ]
    }
   ],
   "source": [
    "print('a\\\\a\\\\a')"
   ]
  },
  {
   "cell_type": "code",
   "execution_count": 49,
   "id": "26a44da2",
   "metadata": {},
   "outputs": [
    {
     "name": "stdout",
     "output_type": "stream",
     "text": [
      "c:\\Windows\\System32\\cmd.exe\n",
      "C:\\Windows\\system32\\nmd.exe\n"
     ]
    }
   ],
   "source": [
    "print('c:\\\\Windows\\\\System32\\\\cmd.exe')\n",
    "# escape 문자의 \\(역슬래시)를 무시: r-stirng\n",
    "print(r'C:\\Windows\\system32\\nmd.exe')"
   ]
  },
  {
   "cell_type": "code",
   "execution_count": 53,
   "id": "99edd415",
   "metadata": {},
   "outputs": [
    {
     "name": "stdout",
     "output_type": "stream",
     "text": [
      "I'm a boy\n",
      "I'm a boy\n"
     ]
    }
   ],
   "source": [
    "print('I\\'m a boy')\n",
    "print(\"I'm a boy\")"
   ]
  },
  {
   "cell_type": "code",
   "execution_count": 55,
   "id": "e962fe03",
   "metadata": {},
   "outputs": [
    {
     "name": "stdout",
     "output_type": "stream",
     "text": [
      "abc\"def\n",
      "abc\"def\n"
     ]
    }
   ],
   "source": [
    "print('abc\"def')\n",
    "print(\"abc\\\"def\")"
   ]
  },
  {
   "cell_type": "code",
   "execution_count": 58,
   "id": "eb42502a",
   "metadata": {},
   "outputs": [
    {
     "name": "stdout",
     "output_type": "stream",
     "text": [
      "ab\n",
      "이름: 이명호\n"
     ]
    }
   ],
   "source": [
    "# 문자열 연산자\n",
    "print('a'+'b') #합친다\n",
    "name = '이명호'\n",
    "print(\"이름: \"+name)"
   ]
  },
  {
   "cell_type": "code",
   "execution_count": 60,
   "id": "3e20cd4a",
   "metadata": {},
   "outputs": [
    {
     "name": "stdout",
     "output_type": "stream",
     "text": [
      "나이: 20\n",
      "키: 178.8\n"
     ]
    }
   ],
   "source": [
    "age = 20\n",
    "tall = 178.8\n",
    "print(\"나이: \" +str(age))\n",
    "print(\"키: \"+ str(tall))"
   ]
  },
  {
   "cell_type": "code",
   "execution_count": 61,
   "id": "5053c7a7",
   "metadata": {},
   "outputs": [
    {
     "name": "stdout",
     "output_type": "stream",
     "text": [
      "**********\n",
      "acvcacvcacvcacvcacvc\n"
     ]
    }
   ],
   "source": [
    "print('*'*10)\n",
    "print('acvc'*5)"
   ]
  },
  {
   "cell_type": "code",
   "execution_count": 63,
   "id": "f914e4b0",
   "metadata": {},
   "outputs": [
    {
     "name": "stdout",
     "output_type": "stream",
     "text": [
      "이명호 3\n",
      "14\n"
     ]
    }
   ],
   "source": [
    "print(name, len(name))\n",
    "print(len('asdasgasdndvas'))"
   ]
  },
  {
   "cell_type": "code",
   "execution_count": 64,
   "id": "399f6d25",
   "metadata": {},
   "outputs": [
    {
     "name": "stdout",
     "output_type": "stream",
     "text": [
      "True False\n"
     ]
    }
   ],
   "source": [
    "addr = '경기도 부천시 원미구'\n",
    "r = \"부천시\" in addr #addr 문자열 안에 \"부천시\"가 문자열이 있어?\n",
    "r2 = \"인천시\" in addr\n",
    "print(r,r2)"
   ]
  },
  {
   "cell_type": "code",
   "execution_count": 65,
   "id": "0e65fd72",
   "metadata": {},
   "outputs": [
    {
     "data": {
      "text/plain": [
       "'a'"
      ]
     },
     "execution_count": 65,
     "metadata": {},
     "output_type": "execute_result"
    }
   ],
   "source": [
    "\"a\""
   ]
  },
  {
   "cell_type": "code",
   "execution_count": 66,
   "id": "a1f8db1a",
   "metadata": {},
   "outputs": [
    {
     "name": "stdout",
     "output_type": "stream",
     "text": [
      "a\n"
     ]
    }
   ],
   "source": [
    "print(\"a\")"
   ]
  },
  {
   "cell_type": "code",
   "execution_count": 70,
   "id": "f563bea8",
   "metadata": {},
   "outputs": [
    {
     "name": "stdout",
     "output_type": "stream",
     "text": [
      "a 20 30 3.232\n",
      "a | 20 | 30 | 3.232\n"
     ]
    }
   ],
   "source": [
    "print(\"a\",20,\"30\", 3.232) # 출력하려는 값들이 여러개일 경우, 를 구분해서 나열한다.\n",
    "print(\"a\",20,\"30\", 3.232, sep=' | ')"
   ]
  },
  {
   "cell_type": "code",
   "execution_count": 71,
   "id": "653dc3bf",
   "metadata": {},
   "outputs": [
    {
     "name": "stdout",
     "output_type": "stream",
     "text": [
      "abc\n",
      "def\n"
     ]
    }
   ],
   "source": [
    "# print() 출력할 값 뒤에 엔터를 기본적으로 붙인뒤 출력한다. 그래서 다음 출력은 다음줄에 나온다.\n",
    "print('abc')\n",
    "print('def')"
   ]
  },
  {
   "cell_type": "code",
   "execution_count": 72,
   "id": "039a53d9",
   "metadata": {},
   "outputs": [
    {
     "name": "stdout",
     "output_type": "stream",
     "text": [
      "abc-def\n"
     ]
    }
   ],
   "source": [
    "print('abc', end='-') #end는 출력할 값뒤에 붙일 값을 변경한다.\n",
    "print('def')"
   ]
  },
  {
   "cell_type": "code",
   "execution_count": 73,
   "id": "0257e5cf",
   "metadata": {},
   "outputs": [],
   "source": [
    "# 인덱싱"
   ]
  },
  {
   "cell_type": "code",
   "execution_count": 74,
   "id": "355bc814",
   "metadata": {},
   "outputs": [
    {
     "name": "stdout",
     "output_type": "stream",
     "text": [
      "안녕하세요. 반갑습니다.\n"
     ]
    }
   ],
   "source": [
    "s = \"안녕하세요. 반갑습니다.\"\n",
    "print(s)"
   ]
  },
  {
   "cell_type": "code",
   "execution_count": 77,
   "id": "a034e4b3",
   "metadata": {},
   "outputs": [
    {
     "name": "stdout",
     "output_type": "stream",
     "text": [
      "2번 index 글자(3번째): 하\n",
      "5번 index 글자(6번째): .\n",
      "뒤에서 2번째 글자: 다\n",
      "반 반\n"
     ]
    }
   ],
   "source": [
    "print(\"2번 index 글자(3번째):\", s[2])\n",
    "print('5번 index 글자(6번째):', s[5])\n",
    "print('뒤에서 2번째 글자:', s[-2])\n",
    "print(s[7], s[-6])"
   ]
  },
  {
   "cell_type": "code",
   "execution_count": 78,
   "id": "c68d183e",
   "metadata": {},
   "outputs": [
    {
     "ename": "TypeError",
     "evalue": "'str' object does not support item assignment",
     "output_type": "error",
     "traceback": [
      "\u001b[1;31m---------------------------------------------------------------------------\u001b[0m",
      "\u001b[1;31mTypeError\u001b[0m                                 Traceback (most recent call last)",
      "\u001b[1;32m~\\AppData\\Local\\Temp/ipykernel_22108/3717623523.py\u001b[0m in \u001b[0;36m<module>\u001b[1;34m\u001b[0m\n\u001b[1;32m----> 1\u001b[1;33m \u001b[0ms\u001b[0m\u001b[1;33m[\u001b[0m\u001b[1;36m3\u001b[0m\u001b[1;33m]\u001b[0m \u001b[1;33m=\u001b[0m \u001b[1;34m'가'\u001b[0m \u001b[1;31m#index를 이용해 특정 문자를 변경할 수 없다.\u001b[0m\u001b[1;33m\u001b[0m\u001b[1;33m\u001b[0m\u001b[0m\n\u001b[0m",
      "\u001b[1;31mTypeError\u001b[0m: 'str' object does not support item assignment"
     ]
    }
   ],
   "source": [
    "s[3] = '가' #index를 이용해 특정 문자를 변경할 수 없다. 에러"
   ]
  },
  {
   "cell_type": "code",
   "execution_count": 79,
   "id": "f3f12afa",
   "metadata": {},
   "outputs": [
    {
     "data": {
      "text/plain": [
       "'Hello World'"
      ]
     },
     "execution_count": 79,
     "metadata": {},
     "output_type": "execute_result"
    }
   ],
   "source": [
    "s = \"Hello World\"\n",
    "s"
   ]
  },
  {
   "cell_type": "code",
   "execution_count": 83,
   "id": "23729bc2",
   "metadata": {},
   "outputs": [
    {
     "data": {
      "text/plain": [
       "6"
      ]
     },
     "execution_count": 83,
     "metadata": {},
     "output_type": "execute_result"
    }
   ],
   "source": [
    "s.index('W')"
   ]
  },
  {
   "cell_type": "code",
   "execution_count": 1,
   "id": "ab49c566",
   "metadata": {},
   "outputs": [
    {
     "name": "stdout",
     "output_type": "stream",
     "text": [
      "14\n"
     ]
    }
   ],
   "source": [
    "s = \"abcdefghijklmn\"\n",
    "print(len(s)) # 14글자 - index: 0 ~ 13"
   ]
  },
  {
   "cell_type": "code",
   "execution_count": 2,
   "id": "24700fba",
   "metadata": {},
   "outputs": [
    {
     "data": {
      "text/plain": [
       "'cegi'"
      ]
     },
     "execution_count": 2,
     "metadata": {},
     "output_type": "execute_result"
    }
   ],
   "source": [
    "s[2:10:2] #범위: 2 ~ 10-1(9) 간격-2 => 2, 4, 6, 8,"
   ]
  },
  {
   "cell_type": "code",
   "execution_count": 3,
   "id": "236b6509",
   "metadata": {},
   "outputs": [
    {
     "data": {
      "text/plain": [
       "'cdefghij'"
      ]
     },
     "execution_count": 3,
     "metadata": {},
     "output_type": "execute_result"
    }
   ],
   "source": [
    "s[2:10] # 간격 생략-기본값:1, :도 생략가능"
   ]
  },
  {
   "cell_type": "code",
   "execution_count": 4,
   "id": "6dbd1692",
   "metadata": {},
   "outputs": [
    {
     "data": {
      "text/plain": [
       "'abcdefghij'"
      ]
     },
     "execution_count": 4,
     "metadata": {},
     "output_type": "execute_result"
    }
   ],
   "source": [
    "s[:10] #시작 생략-기본값: 0"
   ]
  },
  {
   "cell_type": "code",
   "execution_count": 5,
   "id": "69bccd1c",
   "metadata": {},
   "outputs": [
    {
     "data": {
      "text/plain": [
       "'klmn'"
      ]
     },
     "execution_count": 5,
     "metadata": {},
     "output_type": "execute_result"
    }
   ],
   "source": [
    "s[10:] #종료 생략-마지막 index까지 다 조회"
   ]
  },
  {
   "cell_type": "code",
   "execution_count": 6,
   "id": "780d4210",
   "metadata": {},
   "outputs": [
    {
     "data": {
      "text/plain": [
       "'adgjm'"
      ]
     },
     "execution_count": 6,
     "metadata": {},
     "output_type": "execute_result"
    }
   ],
   "source": [
    "s[::3]"
   ]
  },
  {
   "cell_type": "code",
   "execution_count": 8,
   "id": "c8271aa9",
   "metadata": {},
   "outputs": [
    {
     "data": {
      "text/plain": [
       "'fedc'"
      ]
     },
     "execution_count": 8,
     "metadata": {},
     "output_type": "execute_result"
    }
   ],
   "source": [
    "s[5:1:-1] # 시작: 5 ~ 종료: 2"
   ]
  },
  {
   "cell_type": "code",
   "execution_count": 9,
   "id": "4fa92046",
   "metadata": {},
   "outputs": [
    {
     "data": {
      "text/plain": [
       "'nmlkjihgfedcba'"
      ]
     },
     "execution_count": 9,
     "metadata": {},
     "output_type": "execute_result"
    }
   ],
   "source": [
    "s[::-1]"
   ]
  },
  {
   "cell_type": "code",
   "execution_count": 10,
   "id": "ad04ab61",
   "metadata": {},
   "outputs": [
    {
     "data": {
      "text/plain": [
       "'mlkjihgfe'"
      ]
     },
     "execution_count": 10,
     "metadata": {},
     "output_type": "execute_result"
    }
   ],
   "source": [
    "s[-2:3:-1]"
   ]
  },
  {
   "cell_type": "code",
   "execution_count": 11,
   "id": "8a3f7983",
   "metadata": {},
   "outputs": [],
   "source": [
    "# formatting 문자열"
   ]
  },
  {
   "cell_type": "code",
   "execution_count": 12,
   "id": "27273c31",
   "metadata": {},
   "outputs": [],
   "source": [
    "name1, age1, address1 = '홍길도', 10, '서울'\n",
    "name2, age2, address2 = '이순신', 20, '인천'\n",
    "name3, age3, address3 = '강감찬', 30, '부산'"
   ]
  },
  {
   "cell_type": "code",
   "execution_count": 16,
   "id": "7bd7fa1e",
   "metadata": {},
   "outputs": [
    {
     "name": "stdout",
     "output_type": "stream",
     "text": [
      "이름: 홍길도\n",
      "나이: 10세\n",
      "주소: 서울\n"
     ]
    }
   ],
   "source": [
    "info1 = \"이름: \"+name1+\"\\n나이: \"+str(age1)+\"세\\n주소: \"+address1\n",
    "print(info1)"
   ]
  },
  {
   "cell_type": "code",
   "execution_count": 21,
   "id": "98b653ba",
   "metadata": {},
   "outputs": [],
   "source": [
    "info2 = \"이름: \"+name2+\"\\n나이: \"+str(age2)+\"세\\n주소: \" + address2"
   ]
  },
  {
   "cell_type": "code",
   "execution_count": 20,
   "id": "43e06b85",
   "metadata": {},
   "outputs": [
    {
     "name": "stdout",
     "output_type": "stream",
     "text": [
      "이름: 이순신\n",
      "나이: 10세\n",
      "주소: 인천\n"
     ]
    }
   ],
   "source": [
    "print(info2)"
   ]
  },
  {
   "cell_type": "code",
   "execution_count": 22,
   "id": "307d6ef0",
   "metadata": {},
   "outputs": [],
   "source": [
    "# {} => 나중에 값이 들어갈 자리"
   ]
  },
  {
   "cell_type": "code",
   "execution_count": 23,
   "id": "3f74919f",
   "metadata": {},
   "outputs": [],
   "source": [
    "info_layout = \"이름: {}\\n나이: {}세\\n주소: {}\"\n",
    "info1 = info_layout.format(name1, age1, address1)\n",
    "#name1->첫번째{}, age1->두번째{}, address1->세번째 {} 문자열(string)을 완성"
   ]
  },
  {
   "cell_type": "code",
   "execution_count": 24,
   "id": "cf73f326",
   "metadata": {},
   "outputs": [
    {
     "name": "stdout",
     "output_type": "stream",
     "text": [
      "이름: {}\n",
      "나이: {}세\n",
      "주소: {}\n"
     ]
    }
   ],
   "source": [
    "print(info_layout)"
   ]
  },
  {
   "cell_type": "code",
   "execution_count": 25,
   "id": "bb71ffb8",
   "metadata": {},
   "outputs": [
    {
     "name": "stdout",
     "output_type": "stream",
     "text": [
      "이름: {}\n",
      "나이: {}세\n",
      "주소: {}\n"
     ]
    }
   ],
   "source": [
    "print(info_layout)"
   ]
  },
  {
   "cell_type": "code",
   "execution_count": 26,
   "id": "46e3ffab",
   "metadata": {},
   "outputs": [
    {
     "name": "stdout",
     "output_type": "stream",
     "text": [
      "이름: 홍길도\n",
      "나이: 10세\n",
      "주소: 서울\n"
     ]
    }
   ],
   "source": [
    "print(info1)"
   ]
  },
  {
   "cell_type": "code",
   "execution_count": 27,
   "id": "525e52ac",
   "metadata": {},
   "outputs": [
    {
     "name": "stdout",
     "output_type": "stream",
     "text": [
      "이름: 이순신\n",
      "나이: 20세\n",
      "주소: 인천\n",
      "이름: 강감찬\n",
      "나이: 30세\n",
      "주소: 부산\n"
     ]
    }
   ],
   "source": [
    "print(info_layout.format(name2, age2, address2))\n",
    "print(info_layout.format(name3, age3, address3))"
   ]
  },
  {
   "cell_type": "code",
   "execution_count": 37,
   "id": "8d00ad62",
   "metadata": {},
   "outputs": [
    {
     "name": "stdout",
     "output_type": "stream",
     "text": [
      "이름: 홍길도\n",
      "나이: 20세\n",
      "주소: 부산, 이름: 홍길도\n"
     ]
    }
   ],
   "source": [
    "print(\"이름: {}\\n나이: {}세\\n주소: {}, 이름: {}\".format(name1, age2, address3, name1))"
   ]
  },
  {
   "cell_type": "code",
   "execution_count": 29,
   "id": "51dacc7e",
   "metadata": {},
   "outputs": [],
   "source": [
    "# {0}: 첫번째 값"
   ]
  },
  {
   "cell_type": "code",
   "execution_count": 32,
   "id": "c548fab4",
   "metadata": {},
   "outputs": [
    {
     "name": "stdout",
     "output_type": "stream",
     "text": [
      "이름: 홍길도\n",
      "나이: 10세\n",
      "주소: 서울\n"
     ]
    }
   ],
   "source": [
    "# {0}: 첫번째 값, [1]: 두번째 값\n",
    "# 동일한 값을 여러군데에서 사용할 경우.\n",
    "print(\"이름: {0}\\n나이: {1}세\\n주소: {2}\".format(name1, age1, address1))"
   ]
  },
  {
   "cell_type": "code",
   "execution_count": 38,
   "id": "44ac1630",
   "metadata": {},
   "outputs": [
    {
     "name": "stdout",
     "output_type": "stream",
     "text": [
      "이름: 홍길도\n",
      "나이: 10세\n",
      "주소: 서울. 이름: 10\n"
     ]
    }
   ],
   "source": [
    "# {0}: 첫번째 값, [1]: 두번째 값\n",
    "# 동일한 값을 여러군데에서 사용할 경우.\n",
    "print(\"이름: {0}\\n나이: {1}세\\n주소: {2}. 이름: {1}\".format(name1, age1, address1))"
   ]
  },
  {
   "cell_type": "code",
   "execution_count": 40,
   "id": "d35c2f13",
   "metadata": {},
   "outputs": [
    {
     "name": "stdout",
     "output_type": "stream",
     "text": [
      "이름: 홍길도\n",
      "나이: 10세\n",
      "주소: 서울 홍길도\n"
     ]
    }
   ],
   "source": [
    "#{name}: 괄호의 이름지정. 값 전달시 괄호이름=값\n",
    "\n",
    "\n",
    "print(\"이름: {name}\\n나이: {age}세\\n주소: {addr} {name}\".format(name=name1, age=age1, addr=address1))"
   ]
  },
  {
   "cell_type": "code",
   "execution_count": 43,
   "id": "c5c01770",
   "metadata": {},
   "outputs": [
    {
     "name": "stdout",
     "output_type": "stream",
     "text": [
      "이름: 홍길동, 나이: 23, 몸무게: 72.7\n"
     ]
    }
   ],
   "source": [
    "# 형식문자를 이용한 문자열 formatting \n",
    "# %s-string, %d-int, %f-float\n",
    "name, age, weight = '홍길동',23,72.7\n",
    "info = \"이름: %s, 나이: %d, 몸무게: %.1f\" % (name, age, weight) #%.1,2,3 소수점 1,2,3번째 까지 출력\n",
    "print(info)"
   ]
  },
  {
   "cell_type": "code",
   "execution_count": 44,
   "id": "9993a082",
   "metadata": {},
   "outputs": [
    {
     "name": "stdout",
     "output_type": "stream",
     "text": [
      "이름: 홍길동, 나이: 23, 몸무게: 72.7\n"
     ]
    }
   ],
   "source": [
    "# f-string\n",
    "name, age, weight = '홍길동', 23, 72.7\n",
    "print(f\"이름: {name}, 나이: {age}, 몸무게: {weight}\")"
   ]
  },
  {
   "cell_type": "code",
   "execution_count": 53,
   "id": "98555fe8",
   "metadata": {},
   "outputs": [
    {
     "name": "stdout",
     "output_type": "stream",
     "text": [
      "이름: 홍길동 , 나이: 23, 몸무게: 81.16\n"
     ]
    }
   ],
   "source": [
    "weight=81.156\n",
    "print(f\"이름: {name:<4}, 나이: {age}, 몸무게: {weight:.2f}\")"
   ]
  },
  {
   "cell_type": "code",
   "execution_count": 56,
   "id": "84fa05f0",
   "metadata": {},
   "outputs": [
    {
     "data": {
      "text/plain": [
       "'이름:홍길동'"
      ]
     },
     "execution_count": 56,
     "metadata": {},
     "output_type": "execute_result"
    }
   ],
   "source": [
    "# 타입: f-실수, d-정수, s-문자열\n",
    "f\"이름:{name:s}\""
   ]
  },
  {
   "cell_type": "code",
   "execution_count": 64,
   "id": "b5c4e167",
   "metadata": {},
   "outputs": [
    {
     "data": {
      "text/plain": [
       "['사과', '귤', '배', '수박', '복숭아']"
      ]
     },
     "execution_count": 64,
     "metadata": {},
     "output_type": "execute_result"
    }
   ],
   "source": [
    "# 문자열 관련 함수/메소드\n",
    "s = \"사과|귤|배|수박|복숭아\"\n",
    "s.split('|') #토큰화 [0]=사과"
   ]
  },
  {
   "cell_type": "code",
   "execution_count": 66,
   "id": "66770fb9",
   "metadata": {},
   "outputs": [
    {
     "data": {
      "text/plain": [
       "'    abc    '"
      ]
     },
     "execution_count": 66,
     "metadata": {},
     "output_type": "execute_result"
    }
   ],
   "source": [
    "s2 = \"    abc    \"\n",
    "s2"
   ]
  },
  {
   "cell_type": "code",
   "execution_count": 67,
   "id": "9d2b7b43",
   "metadata": {},
   "outputs": [
    {
     "data": {
      "text/plain": [
       "'abc    '"
      ]
     },
     "execution_count": 67,
     "metadata": {},
     "output_type": "execute_result"
    }
   ],
   "source": [
    "s2.lstrip()"
   ]
  },
  {
   "cell_type": "code",
   "execution_count": 69,
   "id": "df25e87a",
   "metadata": {},
   "outputs": [
    {
     "data": {
      "text/plain": [
       "'    abc'"
      ]
     },
     "execution_count": 69,
     "metadata": {},
     "output_type": "execute_result"
    }
   ],
   "source": [
    "s2.rstrip()"
   ]
  },
  {
   "cell_type": "code",
   "execution_count": 70,
   "id": "006098d7",
   "metadata": {},
   "outputs": [
    {
     "data": {
      "text/plain": [
       "'abc'"
      ]
     },
     "execution_count": 70,
     "metadata": {},
     "output_type": "execute_result"
    }
   ],
   "source": [
    "s2.strip()"
   ]
  },
  {
   "cell_type": "code",
   "execution_count": 72,
   "id": "e9340e71",
   "metadata": {},
   "outputs": [
    {
     "data": {
      "text/plain": [
       "'가c가c가c'"
      ]
     },
     "execution_count": 72,
     "metadata": {},
     "output_type": "execute_result"
    }
   ],
   "source": [
    "s3 = \"abcabcabc\"\n",
    "s3.replace('ab','가') #ab를 가로 정정해라"
   ]
  },
  {
   "cell_type": "code",
   "execution_count": 75,
   "id": "bfa60af2",
   "metadata": {},
   "outputs": [
    {
     "data": {
      "text/plain": [
       "3"
      ]
     },
     "execution_count": 75,
     "metadata": {},
     "output_type": "execute_result"
    }
   ],
   "source": [
    "len(s3) #s3의 글자수\n",
    "s3.count('a')\n",
    "s3.count('bc')"
   ]
  },
  {
   "cell_type": "code",
   "execution_count": 78,
   "id": "8248883d",
   "metadata": {},
   "outputs": [
    {
     "data": {
      "text/plain": [
       "'abcabcabc'"
      ]
     },
     "execution_count": 78,
     "metadata": {},
     "output_type": "execute_result"
    }
   ],
   "source": [
    "s3"
   ]
  },
  {
   "cell_type": "code",
   "execution_count": 82,
   "id": "75f4929a",
   "metadata": {},
   "outputs": [
    {
     "ename": "ValueError",
     "evalue": "substring not found",
     "output_type": "error",
     "traceback": [
      "\u001b[1;31m---------------------------------------------------------------------------\u001b[0m",
      "\u001b[1;31mValueError\u001b[0m                                Traceback (most recent call last)",
      "\u001b[1;32m~\\AppData\\Local\\Temp/ipykernel_21076/498147941.py\u001b[0m in \u001b[0;36m<module>\u001b[1;34m\u001b[0m\n\u001b[0;32m      1\u001b[0m \u001b[0ms3\u001b[0m\u001b[1;33m.\u001b[0m\u001b[0mindex\u001b[0m\u001b[1;33m(\u001b[0m\u001b[1;34m'a'\u001b[0m\u001b[1;33m)\u001b[0m \u001b[1;31m# 'a' index\u001b[0m\u001b[1;33m\u001b[0m\u001b[1;33m\u001b[0m\u001b[0m\n\u001b[0;32m      2\u001b[0m \u001b[0ms3\u001b[0m\u001b[1;33m.\u001b[0m\u001b[0mindex\u001b[0m\u001b[1;33m(\u001b[0m\u001b[1;34m'bc'\u001b[0m\u001b[1;33m)\u001b[0m\u001b[1;33m\u001b[0m\u001b[1;33m\u001b[0m\u001b[0m\n\u001b[1;32m----> 3\u001b[1;33m \u001b[0ms3\u001b[0m\u001b[1;33m.\u001b[0m\u001b[0mindex\u001b[0m\u001b[1;33m(\u001b[0m\u001b[1;34m'가'\u001b[0m\u001b[1;33m)\u001b[0m\u001b[1;33m\u001b[0m\u001b[1;33m\u001b[0m\u001b[0m\n\u001b[0m",
      "\u001b[1;31mValueError\u001b[0m: substring not found"
     ]
    }
   ],
   "source": [
    "s3.index('a') # 'a' index\n",
    "s3.index('bc')\n",
    "s3.index('가') #없는 문자열을 찾으면 에러"
   ]
  },
  {
   "cell_type": "code",
   "execution_count": 84,
   "id": "fa2c05c9",
   "metadata": {},
   "outputs": [
    {
     "data": {
      "text/plain": [
       "-1"
      ]
     },
     "execution_count": 84,
     "metadata": {},
     "output_type": "execute_result"
    }
   ],
   "source": [
    "s3.find('a')\n",
    "s3.find('bc')\n",
    "s3.find('가') #없는 문자열을 찾을 경우 -1을 반환"
   ]
  },
  {
   "cell_type": "code",
   "execution_count": 88,
   "id": "25f28b55",
   "metadata": {},
   "outputs": [
    {
     "data": {
      "text/plain": [
       "'가 없다'"
      ]
     },
     "execution_count": 88,
     "metadata": {},
     "output_type": "execute_result"
    }
   ],
   "source": [
    "\"가 없다\" if s3.find('가') == -1 else \"가 있다\""
   ]
  },
  {
   "cell_type": "code",
   "execution_count": 89,
   "id": "c8deffc4",
   "metadata": {},
   "outputs": [
    {
     "data": {
      "text/plain": [
       "'ABCDE'"
      ]
     },
     "execution_count": 89,
     "metadata": {},
     "output_type": "execute_result"
    }
   ],
   "source": [
    "s4 = \"AbCdE\"\n",
    "s4.upper()"
   ]
  },
  {
   "cell_type": "code",
   "execution_count": 90,
   "id": "44627b3b",
   "metadata": {},
   "outputs": [
    {
     "data": {
      "text/plain": [
       "'abcde'"
      ]
     },
     "execution_count": 90,
     "metadata": {},
     "output_type": "execute_result"
    }
   ],
   "source": [
    "s4.lower()"
   ]
  },
  {
   "cell_type": "code",
   "execution_count": 93,
   "id": "5f5ee357",
   "metadata": {},
   "outputs": [
    {
     "data": {
      "text/plain": [
       "False"
      ]
     },
     "execution_count": 93,
     "metadata": {},
     "output_type": "execute_result"
    }
   ],
   "source": [
    "addr = '서울시 서대문구'\n",
    "addr.startswith('서울')\n",
    "addr.startswith('광주')"
   ]
  },
  {
   "cell_type": "code",
   "execution_count": 94,
   "id": "af7b843a",
   "metadata": {},
   "outputs": [
    {
     "data": {
      "text/plain": [
       "True"
      ]
     },
     "execution_count": 94,
     "metadata": {},
     "output_type": "execute_result"
    }
   ],
   "source": [
    "url = 'www.naver.com'\n",
    "url.endswith('.com')"
   ]
  },
  {
   "cell_type": "code",
   "execution_count": 95,
   "id": "bcd5da11",
   "metadata": {},
   "outputs": [
    {
     "data": {
      "text/plain": [
       "False"
      ]
     },
     "execution_count": 95,
     "metadata": {},
     "output_type": "execute_result"
    }
   ],
   "source": [
    "url.endswith('.net')"
   ]
  },
  {
   "cell_type": "code",
   "execution_count": null,
   "id": "5383550b",
   "metadata": {},
   "outputs": [],
   "source": []
  }
 ],
 "metadata": {
  "kernelspec": {
   "display_name": "Python 3 (ipykernel)",
   "language": "python",
   "name": "python3"
  },
  "language_info": {
   "codemirror_mode": {
    "name": "ipython",
    "version": 3
   },
   "file_extension": ".py",
   "mimetype": "text/x-python",
   "name": "python",
   "nbconvert_exporter": "python",
   "pygments_lexer": "ipython3",
   "version": "3.9.7"
  }
 },
 "nbformat": 4,
 "nbformat_minor": 5
}

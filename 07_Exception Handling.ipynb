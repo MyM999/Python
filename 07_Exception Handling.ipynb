{
 "cells": [
  {
   "cell_type": "markdown",
   "id": "28b624af",
   "metadata": {},
   "source": [
    "# 예외 처리\n",
    "- 발생한 예외(Exception)을 처리해서 프로그램을 정상화시킨다.\n",
    "- try, except, else, finally\n",
    "```python\n",
    "try:\n",
    "    예외가 발생할 가능성이 있는 코드\n",
    "    발생가능성 있는 코드와 연결된 코드\n",
    "    # try block\n",
    "except:\n",
    "    try block에서 예외가 발생했을 때 그것을 처리하는 코드\n",
    "```"
   ]
  },
  {
   "cell_type": "code",
   "execution_count": 4,
   "id": "401cea37",
   "metadata": {},
   "outputs": [
    {
     "name": "stdout",
     "output_type": "stream",
     "text": [
      "정수:a\n",
      "a은 정수로 바꿀 수 없다. 재실행 후 정수를 입력하시오.\n"
     ]
    }
   ],
   "source": [
    "num_str = input('정수:')\n",
    "try:\n",
    "    num = int(num_str)\n",
    "    result = num ** 5\n",
    "    print(\"결과:\",result)\n",
    "except:\n",
    "    print(f'{num_str}은 정수로 바꿀 수 없다. 재실행 후 정수를 입력하시오.')"
   ]
  },
  {
   "cell_type": "code",
   "execution_count": 5,
   "id": "0a92e32a",
   "metadata": {},
   "outputs": [
    {
     "name": "stdout",
     "output_type": "stream",
     "text": [
      "정수:1\n",
      "결과: 1\n"
     ]
    }
   ],
   "source": [
    "num_str = input('정수:')\n",
    "try:\n",
    "    num = int(num_str)\n",
    "    result = num ** 5\n",
    "    print(\"결과:\",result)\n",
    "except:\n",
    "    print(f'{num_str}은 정수로 바꿀 수 없다. 재실행 후 정수를 입력하시오.')"
   ]
  },
  {
   "cell_type": "code",
   "execution_count": 10,
   "id": "43e67007",
   "metadata": {},
   "outputs": [
    {
     "name": "stdout",
     "output_type": "stream",
     "text": [
      "정수:a\n",
      "정수2:\n",
      "ValueError, ZDError 이외의 예외가 발생할 경우 처리\n",
      "종료\n"
     ]
    }
   ],
   "source": [
    "num_str = input('정수:')\n",
    "num_str = input('정수2:')\n",
    "\n",
    "try:\n",
    "    num1 = int(num_str1)\n",
    "    num2 = int(num_str2)\n",
    "    result = num1 / num2\n",
    "    print('결과:',result)\n",
    "\n",
    "                \n",
    "   #예외\n",
    "                \n",
    "except ValueError as v:\n",
    "    print(\"정수를 입력하세요.\",v)\n",
    "\n",
    "except ZeroDivisionError as z:\n",
    "    print(\"두번째 숫자는 0이외의 정수를 입력하시오.\",z)\n",
    "except:\n",
    "    print('ValueError, ZDError 이외의 예외가 발생할 경우 처리')\n",
    "                \n",
    "print('종료')\n"
   ]
  },
  {
   "cell_type": "code",
   "execution_count": null,
   "id": "81792eba",
   "metadata": {},
   "outputs": [],
   "source": []
  },
  {
   "cell_type": "code",
   "execution_count": 11,
   "id": "d7db5d9a",
   "metadata": {},
   "outputs": [],
   "source": [
    "def divide():\n",
    "    \"\"\"\n",
    "    설명\n",
    "    [parameter]\n",
    "    [return value]\n",
    "    [exception]\n",
    "        ValueError: 발생 이유\n",
    "        ZeroDivisionError: 발생 이유\n",
    "    \"\"\"\n",
    "    num_str1 = input('정수1:')\n",
    "    num_str2 = input('정수2:')\n",
    "\n",
    "    num1 = int(num_str1) # 예외발생가능성있는 코드1 - ValueError\n",
    "    num2 = int(num_str2) # 예외발생가능성있는 코드2 - ValueError\n",
    "    result = num1 / num2 # 예외발생가능성있는 코드3 - ZeroDivisionError\n",
    "    print('나눈 결과:', result) # 예외와 연결된 코드"
   ]
  },
  {
   "cell_type": "code",
   "execution_count": 12,
   "id": "eb554f76",
   "metadata": {},
   "outputs": [
    {
     "name": "stdout",
     "output_type": "stream",
     "text": [
      "정수1:1\n",
      "정수2:2\n",
      "나눈 결과: 0.5\n",
      "프로그램을 종료합니다.\n"
     ]
    }
   ],
   "source": [
    "try:\n",
    "    divide()  # Exception 발생할 가능성이 있는 코드 (ValueError, ZeroDivisionError)\n",
    "except:\n",
    "    print('나누는 작업을 정상적으로 처리하지 못했습니다.')\n",
    "    \n",
    "print('프로그램을 종료합니다.')"
   ]
  },
  {
   "cell_type": "code",
   "execution_count": 13,
   "id": "b9dfa76d",
   "metadata": {},
   "outputs": [],
   "source": [
    "def divide2(num1:int, num2:int)->int:   \n",
    "    \"\"\"\n",
    "    두개의 숫자를 나누는 함수\n",
    "    [parameter]\n",
    "        num1: int - 피연산자\n",
    "        num2: int - 피연산자\n",
    "    [return]\n",
    "        int - 나눈 결과\n",
    "    [exception]\n",
    "        ZeroDivisionError: num2가 0일 경우 발생.\n",
    "    \"\"\"\n",
    "    if num2 == 0:\n",
    "        num2 = 10\n",
    "    return num1/num2"
   ]
  },
  {
   "cell_type": "code",
   "execution_count": 14,
   "id": "2c8b6a5a",
   "metadata": {},
   "outputs": [
    {
     "ename": "NameError",
     "evalue": "name 'plus' is not defined",
     "output_type": "error",
     "traceback": [
      "\u001b[1;31m---------------------------------------------------------------------------\u001b[0m",
      "\u001b[1;31mNameError\u001b[0m                                 Traceback (most recent call last)",
      "\u001b[1;32m~\\AppData\\Local\\Temp/ipykernel_22856/3618900304.py\u001b[0m in \u001b[0;36m<module>\u001b[1;34m\u001b[0m\n\u001b[0;32m      3\u001b[0m     \u001b[0mr2\u001b[0m \u001b[1;33m=\u001b[0m \u001b[0mdivide2\u001b[0m\u001b[1;33m(\u001b[0m\u001b[1;36m10\u001b[0m\u001b[1;33m,\u001b[0m \u001b[1;36m0\u001b[0m\u001b[1;33m)\u001b[0m\u001b[1;33m\u001b[0m\u001b[1;33m\u001b[0m\u001b[0m\n\u001b[1;32m----> 4\u001b[1;33m     \u001b[0mprint\u001b[0m\u001b[1;33m(\u001b[0m\u001b[0mr\u001b[0m\u001b[1;33m)\u001b[0m\u001b[1;33m\u001b[0m\u001b[1;33m\u001b[0m\u001b[0m\n\u001b[0m\u001b[0;32m      5\u001b[0m \u001b[1;32mexcept\u001b[0m\u001b[1;33m:\u001b[0m\u001b[1;33m\u001b[0m\u001b[1;33m\u001b[0m\u001b[0m\n",
      "\u001b[1;31mNameError\u001b[0m: name 'r' is not defined",
      "\nDuring handling of the above exception, another exception occurred:\n",
      "\u001b[1;31mNameError\u001b[0m                                 Traceback (most recent call last)",
      "\u001b[1;32m~\\AppData\\Local\\Temp/ipykernel_22856/3618900304.py\u001b[0m in \u001b[0;36m<module>\u001b[1;34m\u001b[0m\n\u001b[0;32m      5\u001b[0m \u001b[1;32mexcept\u001b[0m\u001b[1;33m:\u001b[0m\u001b[1;33m\u001b[0m\u001b[1;33m\u001b[0m\u001b[0m\n\u001b[0;32m      6\u001b[0m \u001b[1;31m#     a = divide2(10,1)\u001b[0m\u001b[1;33m\u001b[0m\u001b[1;33m\u001b[0m\u001b[0m\n\u001b[1;32m----> 7\u001b[1;33m     \u001b[0ma\u001b[0m \u001b[1;33m=\u001b[0m \u001b[0mplus\u001b[0m\u001b[1;33m(\u001b[0m\u001b[1;36m10\u001b[0m\u001b[1;33m,\u001b[0m \u001b[1;36m0\u001b[0m\u001b[1;33m)\u001b[0m\u001b[1;33m\u001b[0m\u001b[1;33m\u001b[0m\u001b[0m\n\u001b[0m",
      "\u001b[1;31mNameError\u001b[0m: name 'plus' is not defined"
     ]
    }
   ],
   "source": [
    "try:\n",
    "    r1 = divide2(10,10)\n",
    "    r2 = divide2(10, 0)\n",
    "    print(r)\n",
    "except:\n",
    "#     a = divide2(10,1)\n",
    "    a = plus(10, 0)"
   ]
  },
  {
   "cell_type": "code",
   "execution_count": 15,
   "id": "e1523f27",
   "metadata": {},
   "outputs": [
    {
     "name": "stdout",
     "output_type": "stream",
     "text": [
      "나눈결과: 1.0\n",
      "종료\n"
     ]
    }
   ],
   "source": [
    "try:\n",
    "    r = divide2(10, 10) #Exception발생가능성있는 코드\n",
    "#     print('나눈결과:', r)#Exception이 발생하지 않을 경우 실행할 코드\n",
    "except:\n",
    "    print('예외발생')  #Exception이 발생하면 실행할 코드\n",
    "else:\n",
    "    print('나눈결과:', r)#Exception이 발생하지 않을 경우 실행할 코드\n",
    "print('종료')"
   ]
  },
  {
   "cell_type": "markdown",
   "id": "9b22ae06",
   "metadata": {},
   "source": [
    "### finally \n",
    "try - except - finally\n",
    "- finally block\n",
    "    - try에서 예외 발생 및 처리 여부와 상관없이 100% 실행을 보장하는 코드블럭.\n",
    "    - 외부자원과 연결해서 데이터를 주고받을때  마지막 연결 끊는(닫는) 코드를 주로 넣는다."
   ]
  },
  {
   "cell_type": "code",
   "execution_count": 18,
   "id": "9b1ed9b6",
   "metadata": {},
   "outputs": [
    {
     "name": "stdout",
     "output_type": "stream",
     "text": [
      "0\n",
      "무조건실행될 코드 2\n",
      "무조건실행될 코드 - finally\n",
      "무조건실행될 코드 3\n"
     ]
    }
   ],
   "source": [
    "try:\n",
    "#     외부 자원과 연결\n",
    "#     외부자원과 데이터를 주고받는 코드\n",
    "    print(0)\n",
    "    print(int('10aaa'))\n",
    "    print(\"무조건실행될 코드 1\")\n",
    "except ValueError:\n",
    "#     데이터를 주고받다가 발생하는 예외를 처리하는 코드\n",
    "    print(\"무조건실행될 코드 2\")\n",
    "finally:\n",
    "#     연결 닫는(끊는) 코드\n",
    "    print(\"무조건실행될 코드 - finally\")\n",
    "    \n",
    "print(\"무조건실행될 코드 3\")   "
   ]
  },
  {
   "cell_type": "markdown",
   "id": "1ca338c7",
   "metadata": {},
   "source": [
    "## 같은 일을하는 메소드(함수)가 예외발생 또는 None반환을 하는 경우."
   ]
  },
  {
   "cell_type": "code",
   "execution_count": 22,
   "id": "35147fa0",
   "metadata": {},
   "outputs": [
    {
     "name": "stdout",
     "output_type": "stream",
     "text": [
      "111 111\n"
     ]
    }
   ],
   "source": [
    "d = {'a':111, 'b':1100}\n",
    "print(d['a'],   d.get('a'))"
   ]
  },
  {
   "cell_type": "code",
   "execution_count": 24,
   "id": "65c27e01",
   "metadata": {},
   "outputs": [
    {
     "name": "stdout",
     "output_type": "stream",
     "text": [
      "없다.\n"
     ]
    }
   ],
   "source": [
    "try:\n",
    "    print(d['key'])  #KeyError 를 발생\n",
    "except:\n",
    "    print(\"없다.\")"
   ]
  },
  {
   "cell_type": "code",
   "execution_count": 25,
   "id": "2464e86e",
   "metadata": {},
   "outputs": [
    {
     "name": "stdout",
     "output_type": "stream",
     "text": [
      "없습니다.\n",
      "None\n"
     ]
    }
   ],
   "source": [
    "v = d.get('key')\n",
    "if v != None:\n",
    "    print(v)\n",
    "else:\n",
    "    print(\"없습니다.\")\n",
    "print(v)"
   ]
  },
  {
   "cell_type": "code",
   "execution_count": 26,
   "id": "580e5ac6",
   "metadata": {},
   "outputs": [
    {
     "data": {
      "text/plain": [
       "(1, 1)"
      ]
     },
     "execution_count": 26,
     "metadata": {},
     "output_type": "execute_result"
    }
   ],
   "source": [
    "s = '가나다라'\n",
    "s.index('나'), s.find('나')"
   ]
  },
  {
   "cell_type": "code",
   "execution_count": 27,
   "id": "7a9ba6a9",
   "metadata": {},
   "outputs": [],
   "source": [
    "class Person:\n",
    "    \n",
    "    def __init__(self, name, age):\n",
    "        self.name = name\n",
    "        self.age = age\n",
    "        \n",
    "    # > 연산자 재정의\n",
    "    def __gt__(self, obj):\n",
    "        result = False\n",
    "        if isinstance(obj, Person):\n",
    "            result = self.age > obj.age\n",
    "        else:\n",
    "            try:\n",
    "                result = self.age > obj\n",
    "            except:\n",
    "                pass        \n",
    "        return result"
   ]
  },
  {
   "cell_type": "code",
   "execution_count": 28,
   "id": "e8b91c2e",
   "metadata": {},
   "outputs": [
    {
     "data": {
      "text/plain": [
       "False"
      ]
     },
     "execution_count": 28,
     "metadata": {},
     "output_type": "execute_result"
    }
   ],
   "source": [
    "p1 = Person('이명호', 50)\n",
    "p2 = Person('윤석열', 75)\n",
    "\n",
    "p1 > p2"
   ]
  },
  {
   "cell_type": "code",
   "execution_count": 29,
   "id": "3e6835c2",
   "metadata": {},
   "outputs": [
    {
     "data": {
      "text/plain": [
       "True"
      ]
     },
     "execution_count": 29,
     "metadata": {},
     "output_type": "execute_result"
    }
   ],
   "source": [
    "p1 > 1"
   ]
  },
  {
   "cell_type": "markdown",
   "id": "94e803cd",
   "metadata": {},
   "source": [
    "### 사용자 정의 예외 구현과 예외 발생시키기"
   ]
  },
  {
   "cell_type": "code",
   "execution_count": 30,
   "id": "2402685f",
   "metadata": {},
   "outputs": [],
   "source": [
    "class InvalidMonthException(Exception):\n",
    "    \n",
    "    def __init__(self, invalid_month):\n",
    "        self.invalid_month = invalid_month\n",
    "        \n",
    "    def __str__(self):\n",
    "        return f'월은 1 ~ 12 사이의 정수만 가능합니다. 사용된 월은 :{self.invalid_month}입니다.'"
   ]
  },
  {
   "cell_type": "code",
   "execution_count": 31,
   "id": "fdb08841",
   "metadata": {},
   "outputs": [],
   "source": [
    "def set_month(month):\n",
    "    if month >= 1 and month <=12:\n",
    "        print(f\"{month}월을 설정했습니다.\")\n",
    "    else:\n",
    "        raise InvalidMonthException(month)"
   ]
  },
  {
   "cell_type": "code",
   "execution_count": 32,
   "id": "019b6bd8",
   "metadata": {},
   "outputs": [
    {
     "name": "stdout",
     "output_type": "stream",
     "text": [
      "10월을 설정했습니다.\n",
      "1월을 설정했습니다.\n",
      "처리 월은 1 ~ 12 사이의 정수만 가능합니다. 사용된 월은 :-10입니다.\n"
     ]
    }
   ],
   "source": [
    "set_month(10)\n",
    "set_month(1)\n",
    "try:\n",
    "    set_month(-10)\n",
    "except InvalidMonthException as e:\n",
    "    print('처리', e)"
   ]
  },
  {
   "cell_type": "code",
   "execution_count": 35,
   "id": "10e5febd",
   "metadata": {},
   "outputs": [],
   "source": [
    "# NotEnoughStockException 클래스 구현\n",
    "class NotEnoughStockException(Exception):\n",
    "    \n",
    "    # 주문량, 재고량을 Attribute로 저장.\n",
    "    def __init__(self, order_amount, stock_amount):\n",
    "        self.order_amount = order_amount\n",
    "        self.stock_amount = stock_amount\n",
    "        \n",
    "    # 문자열로 변환시 왜 발생했는지를 반환\n",
    "    def __str__(self):\n",
    "        return f\"재고량보다 주문량이 많습니다. 재고량: {self.stock_amount}, 주문량: {self.order_amount}\""
   ]
  },
  {
   "cell_type": "code",
   "execution_count": 36,
   "id": "6d9452a2",
   "metadata": {},
   "outputs": [],
   "source": [
    "def order(order_amount:int):\n",
    "    \"\"\"\n",
    "    주문 처리하는 함수\n",
    "    [parameter]\n",
    "        order_amount: int -> 주문량\n",
    "    [return]\n",
    "    [Exception]\n",
    "        NotEnoughStockException: 주문량이 재고량보다 많으면 발생.\n",
    "    \"\"\"\n",
    "    stock_amount = 10 #재고량\n",
    "    \n",
    "    if stock_amount < order_amount:  #재고량이 부족하면:\n",
    "        raise NotEnoughStockException(order_amount, stock_amount)   #NotEnoughStockException 발생\n",
    "    \n",
    "    print(\"주문처리 시작\")\n",
    "    stock_amount -= order_amount # 재고량 변경\n",
    "    print('주문정보 저장')\n",
    "    print('주문완료. 남은 재고량:', stock_amount)"
   ]
  },
  {
   "cell_type": "code",
   "execution_count": 37,
   "id": "3e2e591c",
   "metadata": {},
   "outputs": [
    {
     "name": "stdout",
     "output_type": "stream",
     "text": [
      "1차 주문실패 재고량보다 주문량이 많습니다. 재고량: 10, 주문량: 200 10\n",
      "주문처리 시작\n",
      "주문정보 저장\n",
      "주문완료. 남은 재고량: 0\n",
      "다음 단계 작업\n"
     ]
    }
   ],
   "source": [
    "try:    \n",
    "    order(200)\n",
    "    print(\"주문후  처리할 것\")\n",
    "except NotEnoughStockException as e:\n",
    "    print(\"1차 주문실패\", e, e.stock_amount)\n",
    "    order(e.stock_amount)\n",
    "    \n",
    "print('다음 단계 작업')"
   ]
  },
  {
   "cell_type": "code",
   "execution_count": null,
   "id": "51e78b72",
   "metadata": {},
   "outputs": [],
   "source": []
  }
 ],
 "metadata": {
  "kernelspec": {
   "display_name": "Python 3 (ipykernel)",
   "language": "python",
   "name": "python3"
  },
  "language_info": {
   "codemirror_mode": {
    "name": "ipython",
    "version": 3
   },
   "file_extension": ".py",
   "mimetype": "text/x-python",
   "name": "python",
   "nbconvert_exporter": "python",
   "pygments_lexer": "ipython3",
   "version": "3.9.7"
  }
 },
 "nbformat": 4,
 "nbformat_minor": 5
}
